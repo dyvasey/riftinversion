{
 "cells": [
  {
   "cell_type": "markdown",
   "metadata": {},
   "source": [
    "## Lab Notebook - Rift Inversion Project ##\n",
    "This Jupyter notebooks serves as a record of modeling runs done on Stampede2 as part of the rift inversion project. Each cell includes a note of the current modeling goal and the code to generate the resulting models, as well as a report on the model results.\n",
    "\n",
    "__NOTE__: Never run all cells, model inputs are designed to be temporary"
   ]
  },
  {
   "cell_type": "code",
   "execution_count": 1,
   "metadata": {},
   "outputs": [],
   "source": [
    "import ripropagate\n",
    "\n",
    "# Key function: generate\n",
    "# Parameters in generate: lthick,evel,etime,output,ver,soft,shell,file"
   ]
  },
  {
   "cell_type": "markdown",
   "metadata": {},
   "source": [
    "## 7/1/2022 ##\n",
    "Tested 80 km, 2 cm model (hot/fast), hits breakup at 14.5 Myr, so doing that for real to halfway"
   ]
  },
  {
   "cell_type": "code",
   "execution_count": null,
   "metadata": {},
   "outputs": [],
   "source": [
    "ripropagate.generate(etime=7.3,evel=2,lthick=80,output='./070122_rip',file='ri_base_lowtstep.prm',soft=0.375,depth=600,p1=400,p2=200, shell='run_base.sh',ver='a',nodes=3)\n",
    "ripropagate.comp_ascii(depth=600,output='./070122_rip',seed=20,non_initial=True,thicknesses=[20,20,40])"
   ]
  },
  {
   "cell_type": "markdown",
   "metadata": {},
   "source": [
    "## 7/4/2022 ##\n",
    "* Finished rifting to halfway, so doing full rift, quiescence, and inversion"
   ]
  },
  {
   "cell_type": "code",
   "execution_count": null,
   "metadata": {},
   "outputs": [],
   "source": [
    "# Full rift\n",
    "ripropagate.generate(etime=14.5,evel=2,lthick=80,output='./070422_rip_a',file='ri_base_lowtstep.prm',soft=0.375,depth=600,p1=400,p2=200, shell='run_base.sh',ver='a',nodes=3)\n",
    "\n",
    "# Quiescence\n",
    "ripropagate.generate(etime=27.3,evel=0,lthick=80,output='./070422_rip_b',file='ri_base.prm',soft=0.375,depth=600,p1=400,p2=200, shell='run_base.sh',ver='b',nodes=3)\n",
    "\n",
    "# Inversion\n",
    "ripropagate.generate(etime=27.3,evel=-1,lthick=80,output='./070422_rip_c',file='ri_base.prm',soft=0.375,depth=600,p1=400,p2=200, shell='run_base.sh',ver='c',nodes=3)"
   ]
  },
  {
   "cell_type": "markdown",
   "metadata": {},
   "source": [
    "* Also finished full rift for slow/cold, so starting and inversion and quiescence for that model"
   ]
  },
  {
   "cell_type": "code",
   "execution_count": null,
   "metadata": {},
   "outputs": [],
   "source": [
    "# quiescence\n",
    "ripropagate.generate(etime=52,evel=0,lthick=120,output='./070422_rip_d',file='ri_base.prm',soft=0.375,depth=600,p1=400,p2=200, shell='run_base.sh',ver='d',nodes=3)\n",
    "\n",
    "# inversion\n",
    "ripropagate.generate(etime=52,evel=-1,lthick=120,output='./070422_rip_e',file='ri_base.prm',soft=0.375,depth=600,p1=400,p2=200, shell='run_base.sh',ver='e',nodes=3)"
   ]
  },
  {
   "cell_type": "markdown",
   "metadata": {},
   "source": [
    "## 7/6/2022 ##\n",
    "* Full rift finished for hot/fast (0704a), so starting inversion.\n",
    "* Quiescence has been running quite slowly, probably due to abrupt transition to 0 velocity, so holding off on that until test run with gradual velocity transition"
   ]
  },
  {
   "cell_type": "code",
   "execution_count": null,
   "metadata": {},
   "outputs": [],
   "source": [
    "ripropagate.generate(etime=34.5,evel=-1,lthick=80,output='./070622_rip_a',file='ri_base.prm',soft=0.375,depth=600,p1=400,p2=200, shell='run_base.sh',ver='a',nodes=3)"
   ]
  },
  {
   "cell_type": "markdown",
   "metadata": {},
   "source": [
    "## 7/7/2022 ##\n",
    "* Trying out new quiescence prm."
   ]
  },
  {
   "cell_type": "code",
   "execution_count": 2,
   "metadata": {},
   "outputs": [],
   "source": [
    "# quiescence\n",
    "ripropagate.generate(etime=36,evel=0,lthick=120,output='./070722_rip_a',file='ri_base_qui.prm',soft=0.375,depth=600,p1=400,p2=200, shell='run_base.sh',ver='a',nodes=3,\n",
    "quiescence=True,v1=0.5,v2=-1,start=16)\n"
   ]
  },
  {
   "cell_type": "markdown",
   "metadata": {},
   "source": [
    "## 7/8/2022 ##\n",
    "* Going to try old quiescence on hot fast full breakup model (0704a) since it seems to run ok for these."
   ]
  },
  {
   "cell_type": "code",
   "execution_count": 2,
   "metadata": {},
   "outputs": [],
   "source": [
    "ripropagate.generate(etime=34.5,evel=0,lthick=80,output='./070822_rip',file='ri_base.prm',soft=0.375,depth=600,p1=400,p2=200, shell='run_base.sh',ver='a',nodes=3)"
   ]
  }
 ],
 "metadata": {
  "kernelspec": {
   "display_name": "Python 3.9.12 ('aspect')",
   "language": "python",
   "name": "python3"
  },
  "language_info": {
   "codemirror_mode": {
    "name": "ipython",
    "version": 3
   },
   "file_extension": ".py",
   "mimetype": "text/x-python",
   "name": "python",
   "nbconvert_exporter": "python",
   "pygments_lexer": "ipython3",
   "version": "3.9.12"
  },
  "orig_nbformat": 4,
  "vscode": {
   "interpreter": {
    "hash": "0063bcc605341cc03af99af1c3d4af8542643b65cfead928c8102ff8d3902e21"
   }
  }
 },
 "nbformat": 4,
 "nbformat_minor": 2
}
