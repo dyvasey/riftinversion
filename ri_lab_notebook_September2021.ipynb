{
 "cells": [
  {
   "cell_type": "markdown",
   "id": "a73c1e67",
   "metadata": {},
   "source": [
    "## Lab Notebook - Rift Inversion Project\n",
    "This Jupyter notebooks serves as a record of modeling runs done on Stampede2 as part of the rift inversion project. Each cell includes a note of the current modeling goal and the code to generate the resulting models, as well as a report on the model results.\n",
    "\n",
    "__NOTE__: Never run all cells, model inputs are designed to be temporary"
   ]
  },
  {
   "cell_type": "code",
   "execution_count": 2,
   "id": "ee816504",
   "metadata": {},
   "outputs": [],
   "source": [
    "import ripropagate\n",
    "\n",
    "# Key function: generate\n",
    "# Parameters in generate: lthick,evel,etime,output,ver,soft"
   ]
  },
  {
   "cell_type": "markdown",
   "id": "591fe47a",
   "metadata": {},
   "source": [
    "## 9/2/21 ##\n",
    "* Re-running same inversion model (composite creep, no particles) with minimum viscosity decreased to 1e19 Pa s.\n",
    "* Using same composition file as previous models."
   ]
  },
  {
   "cell_type": "code",
   "execution_count": 2,
   "id": "f0fa5fc8",
   "metadata": {},
   "outputs": [],
   "source": [
    "ripropagate.generate(etime=12.5,output='./090221_ri',file='ri_base_nopart_19.prm',soft=0.375) "
   ]
  },
  {
   "cell_type": "markdown",
   "id": "fac51a37",
   "metadata": {},
   "source": [
    "* Running another version of this with maximum viscosity at 1e25 Pa s."
   ]
  },
  {
   "cell_type": "code",
   "execution_count": 3,
   "id": "3226039d",
   "metadata": {},
   "outputs": [],
   "source": [
    "ripropagate.generate(etime=12.5,output='./090221_ri_b',file='ri_base_nopart_1925.prm',soft=0.375,ver='b') "
   ]
  },
  {
   "cell_type": "markdown",
   "id": "5ece4e4c",
   "metadata": {},
   "source": [
    "* Going to simultaneously try ading back in viscoelasticity, with viscosity ranges of 1e17-1e23 and 1e18-1e23."
   ]
  },
  {
   "cell_type": "code",
   "execution_count": 7,
   "id": "69d19680",
   "metadata": {},
   "outputs": [
    {
     "data": {
      "image/png": "[encoded data removed]",
      "text/plain": [
       "<Figure size 432x288 with 2 Axes>"
      ]
     },
     "metadata": {
      "needs_background": "light"
     },
     "output_type": "display_data"
    }
   ],
   "source": [
    "ripropagate.generate(etime=12.5,output='./090221_ri_c',file='ri_base_nopart_elastic.prm',soft=0.375,ver='c')\n",
    "ripropagate.comp_ascii(output='./090221_ri_c',wela=True)"
   ]
  },
  {
   "cell_type": "code",
   "execution_count": 8,
   "id": "a4d8fc43",
   "metadata": {},
   "outputs": [],
   "source": [
    "ripropagate.generate(etime=12.5,output='./090221_ri_d',file='ri_base_nopart_elastic18.prm',soft=0.375,ver='d')"
   ]
  },
  {
   "cell_type": "markdown",
   "id": "daefc73d",
   "metadata": {},
   "source": [
    "* Needed to change names of viscoelastic stress fields to ve_stress_xx and such instead of stress_xx. Modified this in base files after the fact."
   ]
  },
  {
   "cell_type": "code",
   "execution_count": null,
   "id": "0a060e21",
   "metadata": {},
   "outputs": [],
   "source": []
  }
 ],
 "metadata": {
  "kernelspec": {
   "display_name": "Python 3 (ipykernel)",
   "language": "python",
   "name": "python3"
  },
  "language_info": {
   "codemirror_mode": {
    "name": "ipython",
    "version": 3
   },
   "file_extension": ".py",
   "mimetype": "text/x-python",
   "name": "python",
   "nbconvert_exporter": "python",
   "pygments_lexer": "ipython3",
   "version": "3.8.10"
  }
 },
 "nbformat": 4,
 "nbformat_minor": 5
}
