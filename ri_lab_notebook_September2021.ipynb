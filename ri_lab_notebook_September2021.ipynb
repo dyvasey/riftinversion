{
 "cells": [
  {
   "cell_type": "markdown",
   "id": "a73c1e67",
   "metadata": {},
   "source": [
    "## Lab Notebook - Rift Inversion Project\n",
    "This Jupyter notebooks serves as a record of modeling runs done on Stampede2 as part of the rift inversion project. Each cell includes a note of the current modeling goal and the code to generate the resulting models, as well as a report on the model results.\n",
    "\n",
    "__NOTE__: Never run all cells, model inputs are designed to be temporary"
   ]
  },
  {
   "cell_type": "code",
   "execution_count": 1,
   "id": "ee816504",
   "metadata": {},
   "outputs": [],
   "source": [
    "import ripropagate\n",
    "\n",
    "# Key function: generate\n",
    "# Parameters in generate: lthick,evel,etime,output,ver"
   ]
  },
  {
   "cell_type": "markdown",
   "id": "591fe47a",
   "metadata": {},
   "source": [
    "## 9/2/21 ##\n",
    "* Re-running same inversion model (composite creep, no particles) with minimum viscosity decreased to 1e19 Pa s.\n",
    "* Using same composition file as previous models."
   ]
  },
  {
   "cell_type": "code",
   "execution_count": 2,
   "id": "f0fa5fc8",
   "metadata": {},
   "outputs": [],
   "source": [
    "ripropagate.generate(etime=12.5,output='./090221_ri',file='ri_base_nopart_19.prm',soft=0.375) "
   ]
  },
  {
   "cell_type": "code",
   "execution_count": null,
   "id": "a7e489af",
   "metadata": {},
   "outputs": [],
   "source": []
  }
 ],
 "metadata": {
  "kernelspec": {
   "display_name": "Python 3 (ipykernel)",
   "language": "python",
   "name": "python3"
  },
  "language_info": {
   "codemirror_mode": {
    "name": "ipython",
    "version": 3
   },
   "file_extension": ".py",
   "mimetype": "text/x-python",
   "name": "python",
   "nbconvert_exporter": "python",
   "pygments_lexer": "ipython3",
   "version": "3.8.10"
  }
 },
 "nbformat": 4,
 "nbformat_minor": 5
}
