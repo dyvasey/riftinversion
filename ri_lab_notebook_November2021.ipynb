{
 "cells": [
  {
   "cell_type": "markdown",
   "id": "28d82f87",
   "metadata": {},
   "source": [
    "## Lab Notebook - Rift Inversion Project ##\n",
    "This Jupyter notebooks serves as a record of modeling runs done on Stampede2 as part of the rift inversion project. Each cell includes a note of the current modeling goal and the code to generate the resulting models, as well as a report on the model results.\n",
    "\n",
    "__NOTE__: Never run all cells, model inputs are designed to be temporary"
   ]
  },
  {
   "cell_type": "code",
   "execution_count": 2,
   "id": "486f8b03",
   "metadata": {},
   "outputs": [],
   "source": [
    "import ripropagate\n",
    "\n",
    "# Key function: generate\n",
    "# Parameters in generate: lthick,evel,etime,output,ver,soft,shell,file"
   ]
  },
  {
   "cell_type": "markdown",
   "id": "faca2d2d",
   "metadata": {},
   "source": [
    "## 11/1/2021 ##\n",
    "* Finished rifting of model with new inflow/outflow scheme (1025b) - making inversion for that now"
   ]
  },
  {
   "cell_type": "code",
   "execution_count": 2,
   "id": "380083ae",
   "metadata": {},
   "outputs": [],
   "source": [
    "ripropagate.generate(etime=32.5,evel=-1,output='./110121_ri_a',file='ri_base_iso_inflow.prm',soft=0.375,shell='run_base_nal.sh',\n",
    "                    ver='a')"
   ]
  },
  {
   "cell_type": "markdown",
   "id": "9b95a757",
   "metadata": {},
   "source": [
    "* Fastscape model with marine turned on crashed very quickly. Need to take a closer look at parameters.\n",
    "* Made some changes after suggestions from Derek, going to try that out again."
   ]
  },
  {
   "cell_type": "code",
   "execution_count": 3,
   "id": "c72690b8",
   "metadata": {},
   "outputs": [],
   "source": [
    "ripropagate.generate(etime=12.5,evel=1,output='./110121_ri_b',file='ri_base_fs.prm',soft=0.375,shell='run_base_fsr.sh',\n",
    "                    ver='b')"
   ]
  },
  {
   "cell_type": "markdown",
   "id": "37ae74d2",
   "metadata": {},
   "source": [
    "## 11/4/2021 ##\n",
    "* Fastscape model (1101b) actually rifted successfully - trying the inversion next."
   ]
  },
  {
   "cell_type": "code",
   "execution_count": 2,
   "id": "fee27fb9",
   "metadata": {},
   "outputs": [],
   "source": [
    "ripropagate.generate(etime=32.5,evel=-1,output='./110421_ri',file='ri_base_fs.prm',soft=0.375,shell='run_base_fsr.sh')"
   ]
  },
  {
   "cell_type": "markdown",
   "id": "fe62f685",
   "metadata": {},
   "source": [
    "## 11/10/2021 ##\n",
    "* Inversions of inflow and fastscape models proceeding. Finished inverting 2 isosurfaces model.\n",
    "* Adding larger model domain to inflow model to see if it helps with edge effects"
   ]
  },
  {
   "cell_type": "code",
   "execution_count": 5,
   "id": "f3b119b5",
   "metadata": {},
   "outputs": [
    {
     "data": {
      "image/png": "[encoded data removed]",
      "text/plain": [
       "<Figure size 432x288 with 2 Axes>"
      ]
     },
     "metadata": {
      "needs_background": "light"
     },
     "output_type": "display_data"
    }
   ],
   "source": [
    "ripropagate.generate(etime=12.5,evel=1,output='./111021_ri',file='ri_base_iso_inflow_large.prm',soft=0.375,shell='run_base_fsr.sh',\n",
    "                    depth=600)\n",
    "ripropagate.comp_ascii(y=600,output='./111021_ri')"
   ]
  },
  {
   "cell_type": "markdown",
   "id": "c995069d",
   "metadata": {},
   "source": [
    "## 11/11/2021 ##\n",
    "* Realized problem is persisting even with the new outflow scheme - going to try reverting back to cell averaging instead."
   ]
  },
  {
   "cell_type": "code",
   "execution_count": 2,
   "id": "67c926e3",
   "metadata": {},
   "outputs": [],
   "source": [
    "ripropagate.generate(etime=12.5,evel=1,output='./111121_ri_a',file='ri_base.prm',soft=0.375,shell='run_base_nal.sh',ver='a')"
   ]
  },
  {
   "cell_type": "markdown",
   "id": "7db1b43b",
   "metadata": {},
   "source": [
    "* Also doing a version of this with 1 km resolution throughout."
   ]
  },
  {
   "cell_type": "code",
   "execution_count": 3,
   "id": "c29b5a30",
   "metadata": {},
   "outputs": [],
   "source": [
    "ripropagate.generate(etime=12.5,evel=1,output='./111121_ri_b',file='ri_base_hires.prm',soft=0.375,shell='run_base_nal.sh',ver='b')"
   ]
  },
  {
   "cell_type": "markdown",
   "id": "8f22ce5e",
   "metadata": {},
   "source": [
    "## 11/17/2021 ##\n",
    "* 1111a finished, so going to invert that.\n",
    "* But also need to try this with the new inflow scheme, so adding that.\n",
    "* 1111b is super slow, so not going to continue with that at the moment."
   ]
  },
  {
   "cell_type": "code",
   "execution_count": 3,
   "id": "9a5c9946",
   "metadata": {},
   "outputs": [],
   "source": [
    "ripropagate.generate(etime=32.5,evel=-1,output='./111721_ri_a',file='ri_base.prm',soft=0.375,shell='run_base_nal.sh',ver='a')\n",
    "ripropagate.generate(etime=12.5,evel=1,output='./111721_ri_b',file='ri_base_inflow.prm',soft=0.375,shell='run_base_nal.sh',ver='b')"
   ]
  },
  {
   "cell_type": "markdown",
   "id": "600d649f",
   "metadata": {},
   "source": [
    "## 11/22/2021 ##\n",
    "* Discovered that 1111a went seriously wrong (rifting initialized on edge of model), so canceled 1117a. \n",
    "* 1117b almost done rifting, but also need to check that the same problem didn't occur.\n",
    "* Pulling 1111b to see how hires version did as well."
   ]
  },
  {
   "cell_type": "markdown",
   "id": "1e8d0d65",
   "metadata": {},
   "source": []
  }
 ],
 "metadata": {
  "kernelspec": {
   "display_name": "Python 3 (ipykernel)",
   "language": "python",
   "name": "python3"
  },
  "language_info": {
   "codemirror_mode": {
    "name": "ipython",
    "version": 3
   },
   "file_extension": ".py",
   "mimetype": "text/x-python",
   "name": "python",
   "nbconvert_exporter": "python",
   "pygments_lexer": "ipython3",
   "version": "3.9.7"
  }
 },
 "nbformat": 4,
 "nbformat_minor": 5
}
