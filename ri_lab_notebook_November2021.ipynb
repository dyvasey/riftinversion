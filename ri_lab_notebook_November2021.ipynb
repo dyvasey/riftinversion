{
 "cells": [
  {
   "cell_type": "markdown",
   "id": "28d82f87",
   "metadata": {},
   "source": [
    "## Lab Notebook - Rift Inversion Project ##\n",
    "This Jupyter notebooks serves as a record of modeling runs done on Stampede2 as part of the rift inversion project. Each cell includes a note of the current modeling goal and the code to generate the resulting models, as well as a report on the model results.\n",
    "\n",
    "__NOTE__: Never run all cells, model inputs are designed to be temporary"
   ]
  },
  {
   "cell_type": "code",
   "execution_count": 1,
   "id": "486f8b03",
   "metadata": {},
   "outputs": [],
   "source": [
    "import ripropagate\n",
    "\n",
    "# Key function: generate\n",
    "# Parameters in generate: lthick,evel,etime,output,ver,soft,shell,file"
   ]
  },
  {
   "cell_type": "markdown",
   "id": "faca2d2d",
   "metadata": {},
   "source": [
    "## 11/1/2021 ##\n",
    "* Finished rifting of model with new inflow/outflow scheme (1025b) - making inversion for that now"
   ]
  },
  {
   "cell_type": "code",
   "execution_count": 2,
   "id": "380083ae",
   "metadata": {},
   "outputs": [],
   "source": [
    "ripropagate.generate(etime=32.5,evel=-1,output='./110121_ri_a',file='ri_base_iso_inflow.prm',soft=0.375,shell='run_base_nal.sh',\n",
    "                    ver='a')"
   ]
  },
  {
   "cell_type": "markdown",
   "id": "9b95a757",
   "metadata": {},
   "source": [
    "* Fastscape model with marine turned on crashed very quickly. Need to take a closer look at parameters.\n",
    "* Made some changes after suggestions from Derek, going to try that out again."
   ]
  },
  {
   "cell_type": "code",
   "execution_count": 3,
   "id": "c72690b8",
   "metadata": {},
   "outputs": [],
   "source": [
    "ripropagate.generate(etime=12.5,evel=1,output='./110121_ri_b',file='ri_base_fs.prm',soft=0.375,shell='run_base_fsr.sh',\n",
    "                    ver='b')"
   ]
  },
  {
   "cell_type": "code",
   "execution_count": null,
   "id": "425f91a6",
   "metadata": {},
   "outputs": [],
   "source": []
  }
 ],
 "metadata": {
  "kernelspec": {
   "display_name": "Python 3 (ipykernel)",
   "language": "python",
   "name": "python3"
  },
  "language_info": {
   "codemirror_mode": {
    "name": "ipython",
    "version": 3
   },
   "file_extension": ".py",
   "mimetype": "text/x-python",
   "name": "python",
   "nbconvert_exporter": "python",
   "pygments_lexer": "ipython3",
   "version": "3.9.7"
  }
 },
 "nbformat": 4,
 "nbformat_minor": 5
}
