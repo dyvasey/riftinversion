{
 "cells": [
  {
   "cell_type": "markdown",
   "id": "mediterranean-memorabilia",
   "metadata": {},
   "source": [
    "## Lab Notebook - Rift Inversion Project\n",
    "This Jupyter notebooks serves as a record of modeling runs done on Stampede2 as part of the rift inversion project. Each cell includes a note of the current modeling goal and the code to generate the resulting models, as well as a report on the model results.\n",
    "\n",
    "__NOTE__: Never run all cells, model inputs are designed to be temporary"
   ]
  },
  {
   "cell_type": "code",
   "execution_count": 2,
   "id": "normal-remains",
   "metadata": {},
   "outputs": [],
   "source": [
    "import ripropagate\n",
    "\n",
    "# Key function: generate\n",
    "# Parameters in generate: lthick,evel,etime,output,ver"
   ]
  },
  {
   "cell_type": "markdown",
   "id": "common-parent",
   "metadata": {},
   "source": [
    "### 3/12/21 ###\n",
    "* Migrating previous createprm.py script to notebook format to make sure record kept of all models\n",
    "\n",
    "* Previous runs - found that CFL at 0.2 with diffusion creep runs slow (~14 Myr in 96 hours) but is at least stable. CFL at 0.5 with 10000 year maximum timestep is unstable (crashed at ~7 Myr).\n",
    "\n",
    "* Planning to put in 3 models today: \n",
    "    * First model (a) will be reference model (100 km lith thickness, 1 cm/yr extension velocity) run from checkpoint of previous model (030121) until breakup at ~12 Myr.\n",
    "    * Second model (b) will be reference model run from start to halfway to breakup (~6 Myr).\n",
    "    * Third model (c) will be model with parameters to encourage asymmetric rifting (80 km lith thickness, 2 cm/yr) run to 20 Myr to find time of breakup.\n",
    "\n",
    "Turns out that previous diffusion creep model did something funky with upper crust, so holding off on putting these models in for now.\n"
   ]
  },
  {
   "cell_type": "markdown",
   "id": "alpine-birth",
   "metadata": {},
   "source": [
    "### 3/15/21 ###\n",
    "* Reverting back to dislocation creep only models until we can troubleshoot diffusion creep. Running models as described in 3/12, but using only dislocation creep base.\n",
    "* No checkpoint available for this model, so need to start with just halfway to breakup, then run second model to breakup from there."
   ]
  },
  {
   "cell_type": "code",
   "execution_count": 4,
   "id": "collective-context",
   "metadata": {},
   "outputs": [],
   "source": [
    "# Reference model halfway to breakup\n",
    "ripropagate.generate(etime=6,output='./031521_ri_a',ver='a') \n",
    "\n",
    "# Asymmetric model test run\n",
    "ripropagate.generate(etime=20,lthick=80,evel=2,output='./031521_ri_b',ver='b') "
   ]
  },
  {
   "cell_type": "code",
   "execution_count": null,
   "id": "binary-horse",
   "metadata": {},
   "outputs": [],
   "source": []
  }
 ],
 "metadata": {
  "kernelspec": {
   "display_name": "Python 3",
   "language": "python",
   "name": "python3"
  },
  "language_info": {
   "codemirror_mode": {
    "name": "ipython",
    "version": 3
   },
   "file_extension": ".py",
   "mimetype": "text/x-python",
   "name": "python",
   "nbconvert_exporter": "python",
   "pygments_lexer": "ipython3",
   "version": "3.8.8"
  }
 },
 "nbformat": 4,
 "nbformat_minor": 5
}
