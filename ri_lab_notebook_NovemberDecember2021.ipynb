{
 "cells": [
  {
   "cell_type": "markdown",
   "id": "28d82f87",
   "metadata": {},
   "source": [
    "## Lab Notebook - Rift Inversion Project ##\n",
    "This Jupyter notebooks serves as a record of modeling runs done on Stampede2 as part of the rift inversion project. Each cell includes a note of the current modeling goal and the code to generate the resulting models, as well as a report on the model results.\n",
    "\n",
    "__NOTE__: Never run all cells, model inputs are designed to be temporary"
   ]
  },
  {
   "cell_type": "code",
   "execution_count": 1,
   "id": "486f8b03",
   "metadata": {},
   "outputs": [],
   "source": [
    "import ripropagate\n",
    "\n",
    "# Key function: generate\n",
    "# Parameters in generate: lthick,evel,etime,output,ver,soft,shell,file"
   ]
  },
  {
   "cell_type": "markdown",
   "id": "faca2d2d",
   "metadata": {},
   "source": [
    "## 11/1/2021 ##\n",
    "* Finished rifting of model with new inflow/outflow scheme (1025b) - making inversion for that now"
   ]
  },
  {
   "cell_type": "code",
   "execution_count": 2,
   "id": "380083ae",
   "metadata": {},
   "outputs": [],
   "source": [
    "ripropagate.generate(etime=32.5,evel=-1,output='./110121_ri_a',file='ri_base_iso_inflow.prm',soft=0.375,shell='run_base_nal.sh',\n",
    "                    ver='a')"
   ]
  },
  {
   "cell_type": "markdown",
   "id": "9b95a757",
   "metadata": {},
   "source": [
    "* Fastscape model with marine turned on crashed very quickly. Need to take a closer look at parameters.\n",
    "* Made some changes after suggestions from Derek, going to try that out again."
   ]
  },
  {
   "cell_type": "code",
   "execution_count": 3,
   "id": "c72690b8",
   "metadata": {},
   "outputs": [],
   "source": [
    "ripropagate.generate(etime=12.5,evel=1,output='./110121_ri_b',file='ri_base_fs.prm',soft=0.375,shell='run_base_fsr.sh',\n",
    "                    ver='b')"
   ]
  },
  {
   "cell_type": "markdown",
   "id": "37ae74d2",
   "metadata": {},
   "source": [
    "## 11/4/2021 ##\n",
    "* Fastscape model (1101b) actually rifted successfully - trying the inversion next."
   ]
  },
  {
   "cell_type": "code",
   "execution_count": 2,
   "id": "fee27fb9",
   "metadata": {},
   "outputs": [],
   "source": [
    "ripropagate.generate(etime=32.5,evel=-1,output='./110421_ri',file='ri_base_fs.prm',soft=0.375,shell='run_base_fsr.sh')"
   ]
  },
  {
   "cell_type": "markdown",
   "id": "fe62f685",
   "metadata": {},
   "source": [
    "## 11/10/2021 ##\n",
    "* Inversions of inflow and fastscape models proceeding. Finished inverting 2 isosurfaces model.\n",
    "* Adding larger model domain to inflow model to see if it helps with edge effects"
   ]
  },
  {
   "cell_type": "code",
   "execution_count": 5,
   "id": "f3b119b5",
   "metadata": {},
   "outputs": [
    {
     "data": {
      "image/png": "[encoded data removed]",
      "text/plain": [
       "<Figure size 432x288 with 2 Axes>"
      ]
     },
     "metadata": {
      "needs_background": "light"
     },
     "output_type": "display_data"
    }
   ],
   "source": [
    "ripropagate.generate(etime=12.5,evel=1,output='./111021_ri',file='ri_base_iso_inflow_large.prm',soft=0.375,shell='run_base_fsr.sh',\n",
    "                    depth=600)\n",
    "ripropagate.comp_ascii(y=600,output='./111021_ri')"
   ]
  },
  {
   "cell_type": "markdown",
   "id": "c995069d",
   "metadata": {},
   "source": [
    "## 11/11/2021 ##\n",
    "* Realized problem is persisting even with the new outflow scheme - going to try reverting back to cell averaging instead."
   ]
  },
  {
   "cell_type": "code",
   "execution_count": 2,
   "id": "67c926e3",
   "metadata": {},
   "outputs": [],
   "source": [
    "ripropagate.generate(etime=12.5,evel=1,output='./111121_ri_a',file='ri_base.prm',soft=0.375,shell='run_base_nal.sh',ver='a')"
   ]
  },
  {
   "cell_type": "markdown",
   "id": "7db1b43b",
   "metadata": {},
   "source": [
    "* Also doing a version of this with 1 km resolution throughout."
   ]
  },
  {
   "cell_type": "code",
   "execution_count": 3,
   "id": "c29b5a30",
   "metadata": {},
   "outputs": [],
   "source": [
    "ripropagate.generate(etime=12.5,evel=1,output='./111121_ri_b',file='ri_base_hires.prm',soft=0.375,shell='run_base_nal.sh',ver='b')"
   ]
  },
  {
   "cell_type": "markdown",
   "id": "8f22ce5e",
   "metadata": {},
   "source": [
    "## 11/17/2021 ##\n",
    "* 1111a finished, so going to invert that.\n",
    "* But also need to try this with the new inflow scheme, so adding that.\n",
    "* 1111b is super slow, so not going to continue with that at the moment."
   ]
  },
  {
   "cell_type": "code",
   "execution_count": 3,
   "id": "9a5c9946",
   "metadata": {},
   "outputs": [],
   "source": [
    "ripropagate.generate(etime=32.5,evel=-1,output='./111721_ri_a',file='ri_base.prm',soft=0.375,shell='run_base_nal.sh',ver='a')\n",
    "ripropagate.generate(etime=12.5,evel=1,output='./111721_ri_b',file='ri_base_inflow.prm',soft=0.375,shell='run_base_nal.sh',ver='b')"
   ]
  },
  {
   "cell_type": "markdown",
   "id": "600d649f",
   "metadata": {},
   "source": [
    "## 11/22/2021 ##\n",
    "* Discovered that 1111a went seriously wrong (rifting initialized on edge of model), so canceled 1117a. \n",
    "* 1117b almost done rifting, but also need to check that the same problem didn't occur.\n",
    "* Pulling 1111b to see how hires version did as well."
   ]
  },
  {
   "cell_type": "markdown",
   "id": "1e8d0d65",
   "metadata": {},
   "source": [
    "## 11/24/2021 ##\n",
    "* 1117b finished rifting, inverting that now."
   ]
  },
  {
   "cell_type": "code",
   "execution_count": 2,
   "id": "0d0a1561",
   "metadata": {},
   "outputs": [],
   "source": [
    "ripropagate.generate(etime=32.5,evel=-1,output='./112421_ri',file='ri_base_inflow.prm',soft=0.375,shell='run_base_nal.sh')"
   ]
  },
  {
   "cell_type": "markdown",
   "id": "0af188ad",
   "metadata": {},
   "source": [
    "## 12/8/2021 ##\n",
    "* Going to attempt new rift model with larger model domain and significant mesh refinement."
   ]
  },
  {
   "cell_type": "code",
   "execution_count": 2,
   "id": "e0198b91",
   "metadata": {},
   "outputs": [
    {
     "data": {
      "image/png": "[encoded data removed]",
      "text/plain": [
       "<Figure size 432x288 with 2 Axes>"
      ]
     },
     "metadata": {
      "needs_background": "light"
     },
     "output_type": "display_data"
    }
   ],
   "source": [
    "ripropagate.generate(etime=12.5,evel=1,output='./120821_ri',file='ri_base_inflow_large.prm',soft=0.375,depth=600,shell='run_base_nal.sh')\n",
    "ripropagate.comp_ascii(x=1800,y=600,output='./120821_ri')"
   ]
  },
  {
   "cell_type": "markdown",
   "id": "b329908d",
   "metadata": {},
   "source": [
    "## 12/13/2021 ##\n",
    "* A few issues with previous models - trying a model now with 400 km domain but with composition/temperature fixed at sides but vertical velocities allowed."
   ]
  },
  {
   "cell_type": "code",
   "execution_count": 3,
   "id": "5d920516",
   "metadata": {},
   "outputs": [],
   "source": [
    "ripropagate.generate(etime=12.5,evel=1,output='./121321_ri',file='ri_base_inflow_tcfix.prm',soft=0.375,depth=400,shell='run_base_nal.sh')"
   ]
  },
  {
   "cell_type": "markdown",
   "id": "293f644d",
   "metadata": {},
   "source": [
    "## 12/15/2021 ##\n",
    "* That crashed after 3.5 Myr, so reverting back to no fixed parameters at size but still new inflow/outflow scheme."
   ]
  },
  {
   "cell_type": "code",
   "execution_count": 2,
   "id": "8e523204",
   "metadata": {},
   "outputs": [],
   "source": [
    "ripropagate.generate(etime=12.5,evel=1,output='./121521_ri',file='ri_base_inflow_nofix.prm',soft=0.375,depth=400,shell='run_base_nal.sh')"
   ]
  },
  {
   "cell_type": "markdown",
   "id": "e6414d94",
   "metadata": {},
   "source": [
    "## 12/16/2021 ##\n",
    "* That still crashed, so trying the same thing but with slightly larger model domain and coarsened resolution on the sides.\n",
    "* Actually, scratch that, discovered major typo in velocity function (p1 was incorrectly smaller than p2, so going back to model with fixed velocity,temp,comp on sides with correct velocities)"
   ]
  },
  {
   "cell_type": "code",
   "execution_count": 3,
   "id": "478dba4c",
   "metadata": {},
   "outputs": [],
   "source": [
    "ripropagate.generate(etime=12.5,evel=1,output='./121621_ri',file='ri_base_inflow.prm',soft=0.375,depth=400,shell='run_base_nal.sh')"
   ]
  },
  {
   "cell_type": "markdown",
   "id": "25f2792b",
   "metadata": {},
   "source": [
    "## 12/17/2021 ##\n",
    "* New model appears to have rifted successfully. Inverting now."
   ]
  },
  {
   "cell_type": "code",
   "execution_count": 2,
   "id": "fd80407d",
   "metadata": {},
   "outputs": [],
   "source": [
    "ripropagate.generate(etime=32.5,evel=-1,output='./121721_ri',file='ri_base_inflow.prm',soft=0.375,depth=400,shell='run_base_nal.sh')"
   ]
  },
  {
   "cell_type": "markdown",
   "id": "6894526b",
   "metadata": {},
   "source": [
    "## 12/22/2021 ##\n",
    "* Inversion is generally looking good, though needs CFL at 0.5 and timestep at 20000 to go fast enough. Trying a comparable version with mantle down to 600 km and wider transition velocity zone."
   ]
  },
  {
   "cell_type": "code",
   "execution_count": 3,
   "id": "dc004ad6",
   "metadata": {},
   "outputs": [
    {
     "data": {
      "image/png": "[encoded data removed]",
      "text/plain": [
       "<Figure size 432x288 with 2 Axes>"
      ]
     },
     "metadata": {
      "needs_background": "light"
     },
     "output_type": "display_data"
    }
   ],
   "source": [
    "ripropagate.generate(etime=12.5,evel=1,output='./122221_ri',file='ri_base_600.prm',soft=0.375,depth=600,\n",
    "                     p1=400,p2=200,shell='run_base_nal.sh')\n",
    "ripropagate.comp_ascii(x=1000,y=600,output='./122221_ri')"
   ]
  },
  {
   "cell_type": "code",
   "execution_count": null,
   "id": "e72ace5d",
   "metadata": {},
   "outputs": [],
   "source": []
  }
 ],
 "metadata": {
  "kernelspec": {
   "display_name": "Python 3 (ipykernel)",
   "language": "python",
   "name": "python3"
  },
  "language_info": {
   "codemirror_mode": {
    "name": "ipython",
    "version": 3
   },
   "file_extension": ".py",
   "mimetype": "text/x-python",
   "name": "python",
   "nbconvert_exporter": "python",
   "pygments_lexer": "ipython3",
   "version": "3.9.7"
  }
 },
 "nbformat": 4,
 "nbformat_minor": 5
}
