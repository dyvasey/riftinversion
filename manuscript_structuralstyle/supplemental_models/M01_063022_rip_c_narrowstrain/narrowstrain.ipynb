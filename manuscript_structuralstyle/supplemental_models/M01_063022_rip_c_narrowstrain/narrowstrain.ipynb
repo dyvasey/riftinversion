{
 "cells": [
  {
   "cell_type": "code",
   "execution_count": 1,
   "metadata": {},
   "outputs": [],
   "source": [
    "import ripropagate"
   ]
  },
  {
   "cell_type": "code",
   "execution_count": 2,
   "metadata": {},
   "outputs": [
    {
     "data": {
      "text/plain": [
       "(array([[      0.,       0.,       0., ...,       0.,       0.,       0.],\n",
       "        [   2000.,    2000.,    2000., ...,    2000.,    2000.,    2000.],\n",
       "        [   4000.,    4000.,    4000., ...,    4000.,    4000.,    4000.],\n",
       "        ...,\n",
       "        [ 996000.,  996000.,  996000., ...,  996000.,  996000.,  996000.],\n",
       "        [ 998000.,  998000.,  998000., ...,  998000.,  998000.,  998000.],\n",
       "        [1000000., 1000000., 1000000., ..., 1000000., 1000000., 1000000.]]),\n",
       " array([[     0.,   2000.,   4000., ..., 596000., 598000., 600000.],\n",
       "        [     0.,   2000.,   4000., ..., 596000., 598000., 600000.],\n",
       "        [     0.,   2000.,   4000., ..., 596000., 598000., 600000.],\n",
       "        ...,\n",
       "        [     0.,   2000.,   4000., ..., 596000., 598000., 600000.],\n",
       "        [     0.,   2000.,   4000., ..., 596000., 598000., 600000.],\n",
       "        [     0.,   2000.,   4000., ..., 596000., 598000., 600000.]]),\n",
       " array([[0., 0., 0., ..., 0., 0., 0.],\n",
       "        [0., 0., 0., ..., 0., 0., 0.],\n",
       "        [0., 0., 0., ..., 0., 0., 0.],\n",
       "        ...,\n",
       "        [0., 0., 0., ..., 0., 0., 0.],\n",
       "        [0., 0., 0., ..., 0., 0., 0.],\n",
       "        [0., 0., 0., ..., 0., 0., 0.]]))"
      ]
     },
     "execution_count": 2,
     "metadata": {},
     "output_type": "execute_result"
    },
    {
     "data": {
      "image/png": "[encoded data removed]",
      "text/plain": [
       "<Figure size 432x288 with 2 Axes>"
      ]
     },
     "metadata": {
      "needs_background": "light"
     },
     "output_type": "display_data"
    }
   ],
   "source": [
    "ripropagate.comp_ascii(depth=600,output='./',seed=20,non_initial=True,thicknesses=[20,20,80],strain_width=150,\n",
    "                       strain_depth=40)"
   ]
  }
 ],
 "metadata": {
  "kernelspec": {
   "display_name": "aspect",
   "language": "python",
   "name": "python3"
  },
  "language_info": {
   "codemirror_mode": {
    "name": "ipython",
    "version": 3
   },
   "file_extension": ".py",
   "mimetype": "text/x-python",
   "name": "python",
   "nbconvert_exporter": "python",
   "pygments_lexer": "ipython3",
   "version": "3.9.7"
  }
 },
 "nbformat": 4,
 "nbformat_minor": 2
}
