{
 "cells": [
  {
   "cell_type": "markdown",
   "metadata": {},
   "source": [
    "## Lab Notebook - Rift Inversion Project ##\n",
    "This Jupyter notebooks serves as a record of modeling runs done on Stampede2 as part of the rift inversion project. Each cell includes a note of the current modeling goal and the code to generate the resulting models, as well as a report on the model results.\n",
    "\n",
    "__NOTE__: Never run all cells, model inputs are designed to be temporary"
   ]
  },
  {
   "cell_type": "code",
   "execution_count": 1,
   "metadata": {},
   "outputs": [],
   "source": [
    "import ripropagate\n",
    "\n",
    "# Key function: generate\n",
    "# Parameters in generate: lthick,evel,etime,output,ver,soft,shell,file"
   ]
  },
  {
   "cell_type": "markdown",
   "metadata": {},
   "source": [
    "## 3/2/2022 ##\n",
    "* Generating sample prms to send to Anne and Sascha"
   ]
  },
  {
   "cell_type": "code",
   "execution_count": 2,
   "metadata": {},
   "outputs": [
    {
     "data": {
      "text/plain": [
       "(array([[      0.,       0.,       0., ...,       0.,       0.,       0.],\n",
       "        [   2000.,    2000.,    2000., ...,    2000.,    2000.,    2000.],\n",
       "        [   4000.,    4000.,    4000., ...,    4000.,    4000.,    4000.],\n",
       "        ...,\n",
       "        [ 996000.,  996000.,  996000., ...,  996000.,  996000.,  996000.],\n",
       "        [ 998000.,  998000.,  998000., ...,  998000.,  998000.,  998000.],\n",
       "        [1000000., 1000000., 1000000., ..., 1000000., 1000000., 1000000.]]),\n",
       " array([[     0.,   2000.,   4000., ..., 596000., 598000., 600000.],\n",
       "        [     0.,   2000.,   4000., ..., 596000., 598000., 600000.],\n",
       "        [     0.,   2000.,   4000., ..., 596000., 598000., 600000.],\n",
       "        ...,\n",
       "        [     0.,   2000.,   4000., ..., 596000., 598000., 600000.],\n",
       "        [     0.,   2000.,   4000., ..., 596000., 598000., 600000.],\n",
       "        [     0.,   2000.,   4000., ..., 596000., 598000., 600000.]]),\n",
       " array([[0., 0., 0., ..., 0., 0., 0.],\n",
       "        [0., 0., 0., ..., 0., 0., 0.],\n",
       "        [0., 0., 0., ..., 0., 0., 0.],\n",
       "        ...,\n",
       "        [0., 0., 0., ..., 0., 0., 0.],\n",
       "        [0., 0., 0., ..., 0., 0., 0.],\n",
       "        [0., 0., 0., ..., 0., 0., 0.]]))"
      ]
     },
     "execution_count": 2,
     "metadata": {},
     "output_type": "execute_result"
    },
    {
     "data": {
      "image/png": "[encoded data removed]",
      "text/plain": [
       "<Figure size 432x288 with 2 Axes>"
      ]
     },
     "metadata": {
      "needs_background": "light"
     },
     "output_type": "display_data"
    }
   ],
   "source": [
    "ripropagate.generate(etime=12.5,evel=1,output='./reference_model',file='ri_base.prm',soft=0.375,depth=600,p1=400,p2=200,\n",
    "                     shell='run_base_nal.sh',ver='a',nodes=3)\n",
    "ripropagate.generate(etime=32.5,evel=-1,output='./reference_model',file='ri_base.prm',soft=0.375,depth=600,p1=400,p2=200,\n",
    "                     shell='run_base_nal.sh',ver='a',nodes=3)\n",
    "ripropagate.comp_ascii(depth=600,output='./reference_model',non_initial=False)"
   ]
  },
  {
   "cell_type": "markdown",
   "metadata": {},
   "source": [
    "## 3/7/2022 ##\n",
    "* Trying a model with higher resolution in the center (250-750 down to 100 km) after Sascha's suggestion."
   ]
  },
  {
   "cell_type": "code",
   "execution_count": 3,
   "metadata": {},
   "outputs": [
    {
     "data": {
      "text/plain": [
       "(array([[      0.,       0.,       0., ...,       0.,       0.,       0.],\n",
       "        [   2000.,    2000.,    2000., ...,    2000.,    2000.,    2000.],\n",
       "        [   4000.,    4000.,    4000., ...,    4000.,    4000.,    4000.],\n",
       "        ...,\n",
       "        [ 996000.,  996000.,  996000., ...,  996000.,  996000.,  996000.],\n",
       "        [ 998000.,  998000.,  998000., ...,  998000.,  998000.,  998000.],\n",
       "        [1000000., 1000000., 1000000., ..., 1000000., 1000000., 1000000.]]),\n",
       " array([[     0.,   2000.,   4000., ..., 596000., 598000., 600000.],\n",
       "        [     0.,   2000.,   4000., ..., 596000., 598000., 600000.],\n",
       "        [     0.,   2000.,   4000., ..., 596000., 598000., 600000.],\n",
       "        ...,\n",
       "        [     0.,   2000.,   4000., ..., 596000., 598000., 600000.],\n",
       "        [     0.,   2000.,   4000., ..., 596000., 598000., 600000.],\n",
       "        [     0.,   2000.,   4000., ..., 596000., 598000., 600000.]]),\n",
       " array([[0., 0., 0., ..., 0., 0., 0.],\n",
       "        [0., 0., 0., ..., 0., 0., 0.],\n",
       "        [0., 0., 0., ..., 0., 0., 0.],\n",
       "        ...,\n",
       "        [0., 0., 0., ..., 0., 0., 0.],\n",
       "        [0., 0., 0., ..., 0., 0., 0.],\n",
       "        [0., 0., 0., ..., 0., 0., 0.]]))"
      ]
     },
     "execution_count": 3,
     "metadata": {},
     "output_type": "execute_result"
    },
    {
     "data": {
      "image/png": "[encoded data removed]",
      "text/plain": [
       "<Figure size 432x288 with 2 Axes>"
      ]
     },
     "metadata": {
      "needs_background": "light"
     },
     "output_type": "display_data"
    }
   ],
   "source": [
    "ripropagate.generate(etime=12.5,evel=1,output='./030722_ri',file='ri_base_center.prm',soft=0.375,depth=600,p1=400,p2=200,\n",
    "                     shell='run_base_nal.sh',nodes=2)\n",
    "ripropagate.comp_ascii(depth=600,output='./030722_ri',non_initial=False)"
   ]
  }
 ],
 "metadata": {
  "interpreter": {
   "hash": "0063bcc605341cc03af99af1c3d4af8542643b65cfead928c8102ff8d3902e21"
  },
  "kernelspec": {
   "display_name": "Python 3.9.7 ('aspect')",
   "language": "python",
   "name": "python3"
  },
  "language_info": {
   "codemirror_mode": {
    "name": "ipython",
    "version": 3
   },
   "file_extension": ".py",
   "mimetype": "text/x-python",
   "name": "python",
   "nbconvert_exporter": "python",
   "pygments_lexer": "ipython3",
   "version": "3.9.7"
  },
  "orig_nbformat": 4
 },
 "nbformat": 4,
 "nbformat_minor": 2
}
