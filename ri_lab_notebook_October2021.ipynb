{
 "cells": [
  {
   "cell_type": "markdown",
   "id": "496275e8",
   "metadata": {},
   "source": [
    "## Lab Notebook - Rift Inversion Project ##\n",
    "This Jupyter notebooks serves as a record of modeling runs done on Stampede2 as part of the rift inversion project. Each cell includes a note of the current modeling goal and the code to generate the resulting models, as well as a report on the model results.\n",
    "\n",
    "__NOTE__: Never run all cells, model inputs are designed to be temporary"
   ]
  },
  {
   "cell_type": "code",
   "execution_count": 1,
   "id": "fb40e92f",
   "metadata": {},
   "outputs": [],
   "source": [
    "import ripropagate\n",
    "\n",
    "# Key function: generate\n",
    "# Parameters in generate: lthick,evel,etime,output,ver,soft,shell,file"
   ]
  },
  {
   "cell_type": "markdown",
   "id": "b19f7860",
   "metadata": {},
   "source": [
    "## 10/7/21 ##\n",
    "* Finally got 0930 to finish after errors with the minimum refinement function. Inverting it now."
   ]
  },
  {
   "cell_type": "code",
   "execution_count": 3,
   "id": "36bf5e41",
   "metadata": {},
   "outputs": [],
   "source": [
    "ripropagate.generate(etime=32.5,evel=-1,output='./100721_ri',file='ri_base.prm',soft=0.375,shell='run_base_nal.sh')"
   ]
  },
  {
   "cell_type": "markdown",
   "id": "280fab30",
   "metadata": {},
   "source": [
    "* Cherry-picked John's particle fix and put in the fastscape coupled version of aspect. Trying that out now."
   ]
  },
  {
   "cell_type": "code",
   "execution_count": 4,
   "id": "9ec437f8",
   "metadata": {},
   "outputs": [],
   "source": [
    "ripropagate.generate(etime=12.5,evel=1,output='./100721_ri_b',file='ri_base_fs.prm',soft=0.375,shell='run_base_fsp.sh',\n",
    "                    ver='b')"
   ]
  },
  {
   "cell_type": "markdown",
   "id": "028bc0a2",
   "metadata": {},
   "source": [
    "## 10/19/21 ##\n",
    "* Cherry-picking didn't work, need a full rebase\n",
    "* 100721 inverted, but looks exactly the same as model with more AMR, makes me think viscosity changes actually behind this.\n",
    "* Trying doing the 1 km refinement only in the lithosphere with the current 1e19-1e25 viscosity, just to see what that does."
   ]
  },
  {
   "cell_type": "code",
   "execution_count": 2,
   "id": "6eb8bf78",
   "metadata": {},
   "outputs": [],
   "source": [
    "ripropagate.generate(etime=12.5,evel=1,output='./101921_ri',file='ri_base_iso.prm',soft=0.375,shell='run_base_nal.sh')"
   ]
  },
  {
   "cell_type": "markdown",
   "id": "884ae5ed",
   "metadata": {},
   "source": [
    "* Also going to try running the coarse mesh with a wide viscosity range (1e18-1e26), to see what that does"
   ]
  },
  {
   "cell_type": "code",
   "execution_count": 2,
   "id": "e0ba5053",
   "metadata": {},
   "outputs": [],
   "source": [
    "ripropagate.generate(etime=12.5,evel=1,output='./101921_ri_b',file='ri_base_coarse_1826.prm',soft=0.375,shell='run_base_nal.sh',\n",
    "                    ver='b')"
   ]
  },
  {
   "cell_type": "markdown",
   "id": "9c6b067d",
   "metadata": {},
   "source": [
    "* 1019 already finished, rifted really fast. Going to invert it."
   ]
  },
  {
   "cell_type": "code",
   "execution_count": 3,
   "id": "9cbd6fa1",
   "metadata": {},
   "outputs": [],
   "source": [
    "ripropagate.generate(etime=32.5,evel=-1,output='./101921_ri_c',file='ri_base_iso.prm',soft=0.375,shell='run_base_nal.sh',\n",
    "                    ver='c')"
   ]
  },
  {
   "cell_type": "markdown",
   "id": "2555eef6",
   "metadata": {},
   "source": [
    "## 10/19/21 ##\n",
    "* Sill finishing up this inversion, but have a couple other things to try as permutations of this model.\n",
    "* Going to add an extra isosurface to make the model more coarse (and faster???)\n",
    "* Going to also try balancing inflow on the sides of the model instead of the base."
   ]
  },
  {
   "cell_type": "code",
   "execution_count": 3,
   "id": "8c1f70c3",
   "metadata": {},
   "outputs": [],
   "source": [
    "ripropagate.generate(etime=12.5,evel=1,output='./102521_ri_a',file='ri_base_iso2.prm',soft=0.375,shell='run_base_nal.sh',\n",
    "                    ver='a')"
   ]
  },
  {
   "cell_type": "code",
   "execution_count": 4,
   "id": "536fc256",
   "metadata": {},
   "outputs": [],
   "source": [
    "ripropagate.generate(etime=12.5,evel=1,output='./102521_ri_b',file='ri_base_iso_inflow.prm',soft=0.375,shell='run_base_nal.sh',\n",
    "                    ver='b')"
   ]
  },
  {
   "cell_type": "code",
   "execution_count": null,
   "id": "38eebd30",
   "metadata": {},
   "outputs": [],
   "source": []
  }
 ],
 "metadata": {
  "kernelspec": {
   "display_name": "Python 3 (ipykernel)",
   "language": "python",
   "name": "python3"
  },
  "language_info": {
   "codemirror_mode": {
    "name": "ipython",
    "version": 3
   },
   "file_extension": ".py",
   "mimetype": "text/x-python",
   "name": "python",
   "nbconvert_exporter": "python",
   "pygments_lexer": "ipython3",
   "version": "3.9.7"
  }
 },
 "nbformat": 4,
 "nbformat_minor": 5
}
