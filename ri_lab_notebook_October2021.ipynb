{
 "cells": [
  {
   "cell_type": "markdown",
   "id": "496275e8",
   "metadata": {},
   "source": [
    "## Lab Notebook - Rift Inversion Project ##\n",
    "This Jupyter notebooks serves as a record of modeling runs done on Stampede2 as part of the rift inversion project. Each cell includes a note of the current modeling goal and the code to generate the resulting models, as well as a report on the model results.\n",
    "\n",
    "__NOTE__: Never run all cells, model inputs are designed to be temporary"
   ]
  },
  {
   "cell_type": "code",
   "execution_count": 1,
   "id": "fb40e92f",
   "metadata": {},
   "outputs": [],
   "source": [
    "import ripropagate\n",
    "\n",
    "# Key function: generate\n",
    "# Parameters in generate: lthick,evel,etime,output,ver,soft,shell,file"
   ]
  },
  {
   "cell_type": "markdown",
   "id": "b19f7860",
   "metadata": {},
   "source": [
    "## 10/7/21 ##\n",
    "* Finally got 0930 to finish after errors with the minimum refinement function. Inverting it now."
   ]
  },
  {
   "cell_type": "code",
   "execution_count": 3,
   "id": "36bf5e41",
   "metadata": {},
   "outputs": [],
   "source": [
    "ripropagate.generate(etime=32.5,evel=-1,output='./100721_ri',file='ri_base.prm',soft=0.375,shell='run_base_nal.sh')"
   ]
  },
  {
   "cell_type": "markdown",
   "id": "280fab30",
   "metadata": {},
   "source": [
    "* Cherry-picked John's particle fix and put in the fastscape coupled version of aspect. Trying that out now."
   ]
  },
  {
   "cell_type": "code",
   "execution_count": 4,
   "id": "9ec437f8",
   "metadata": {},
   "outputs": [],
   "source": [
    "ripropagate.generate(etime=12.5,evel=1,output='./100721_ri_b',file='ri_base_fs.prm',soft=0.375,shell='run_base_fsp.sh',\n",
    "                    ver='b')"
   ]
  },
  {
   "cell_type": "code",
   "execution_count": null,
   "id": "1f7540ec",
   "metadata": {},
   "outputs": [],
   "source": []
  }
 ],
 "metadata": {
  "kernelspec": {
   "display_name": "Python 3 (ipykernel)",
   "language": "python",
   "name": "python3"
  },
  "language_info": {
   "codemirror_mode": {
    "name": "ipython",
    "version": 3
   },
   "file_extension": ".py",
   "mimetype": "text/x-python",
   "name": "python",
   "nbconvert_exporter": "python",
   "pygments_lexer": "ipython3",
   "version": "3.9.7"
  }
 },
 "nbformat": 4,
 "nbformat_minor": 5
}
