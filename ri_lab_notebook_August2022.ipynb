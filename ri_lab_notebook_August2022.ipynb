{
 "cells": [
  {
   "cell_type": "markdown",
   "metadata": {},
   "source": [
    "## Lab Notebook - Rift Inversion Project ##\n",
    "This Jupyter notebooks serves as a record of modeling runs done on Stampede2 as part of the rift inversion project. Each cell includes a note of the current modeling goal and the code to generate the resulting models, as well as a report on the model results.\n",
    "\n",
    "__NOTE__: Never run all cells, model inputs are designed to be temporary"
   ]
  },
  {
   "cell_type": "code",
   "execution_count": 1,
   "metadata": {},
   "outputs": [],
   "source": [
    "import ripropagate\n",
    "\n",
    "# Key function: generate\n",
    "# Parameters in generate: lthick,evel,etime,output,ver,soft,shell,file"
   ]
  },
  {
   "cell_type": "markdown",
   "metadata": {},
   "source": [
    "## 8/1/2022 ##\n",
    "* Going to take the current 8 models and do a version with a faster convergence velocity (5 cm/yr)\n",
    "* slow-cold-half (0628b) is first\n",
    "* Then slow-cold-full (0630a)\n",
    "* Then hot-fast-half (0701)\n",
    "* Then hot-fast-full (0704a)"
   ]
  },
  {
   "cell_type": "code",
   "execution_count": 6,
   "metadata": {},
   "outputs": [],
   "source": [
    "ripropagate.generate(etime=20,evel=-5,lthick=120,output='./080122_rip_a',file='ri_base_verylowtstep.prm',soft=0.375,depth=600,p1=400,p2=200, shell='run_base.sh',ver='a',nodes=3)\n",
    "ripropagate.generate(etime=36,evel=-5,lthick=120,output='./080122_rip_b',file='ri_base_verylowtstep.prm',soft=0.375,depth=600,p1=400,p2=200, shell='run_base.sh',ver='b',nodes=3)\n",
    "ripropagate.generate(etime=11.3,evel=-5,lthick=80,output='./080122_rip_c',file='ri_base_verylowtstep.prm',soft=0.375,depth=600,p1=400,p2=200, shell='run_base.sh',ver='c',nodes=3)\n",
    "ripropagate.generate(etime=18.5,evel=-5,lthick=80,output='./080122_rip_d',file='ri_base_verylowtstep.prm',soft=0.375,depth=600,p1=400,p2=200, shell='run_base.sh',ver='d',nodes=3)"
   ]
  },
  {
   "cell_type": "markdown",
   "metadata": {},
   "source": [
    "* Some of the quiescence rifts are available, but others will need to be loaded back into Stampede2\n",
    "* slow-cold-half-qui (0630b)\n",
    "* slow-cold-full-qui (0704d)\n",
    "* hot-fast-half-qui (0704b)\n",
    "* hot-fast-full-qui (0708)"
   ]
  },
  {
   "cell_type": "code",
   "execution_count": 10,
   "metadata": {},
   "outputs": [],
   "source": [
    "ripropagate.generate(etime=40,evel=-5,lthick=120,output='./080122_rip_e',file='ri_base_verylowtstep.prm',soft=0.375,depth=600,p1=400,p2=200, shell='run_base.sh',ver='e',nodes=3)\n",
    "ripropagate.generate(etime=56,evel=-5,lthick=120,output='./080122_rip_f',file='ri_base_verylowtstep.prm',soft=0.375,depth=600,p1=400,p2=200, shell='run_base.sh',ver='f',nodes=3)\n",
    "\n",
    "ripropagate.generate(etime=31.3,evel=-5,lthick=80,output='./080122_rip_g',file='ri_base_verylowtstep.prm',soft=0.375,depth=600,p1=400,p2=200, shell='run_base.sh',ver='g',nodes=3)\n",
    "ripropagate.generate(etime=38.5,evel=-5,lthick=80,output='./080122_rip_h',file='ri_base_verylowtstep.prm',soft=0.375,depth=600,p1=400,p2=200, shell='run_base.sh',ver='h',nodes=3)"
   ]
  }
 ],
 "metadata": {
  "kernelspec": {
   "display_name": "Python 3.9.13 ('aspect')",
   "language": "python",
   "name": "python3"
  },
  "language_info": {
   "codemirror_mode": {
    "name": "ipython",
    "version": 3
   },
   "file_extension": ".py",
   "mimetype": "text/x-python",
   "name": "python",
   "nbconvert_exporter": "python",
   "pygments_lexer": "ipython3",
   "version": "3.9.13"
  },
  "orig_nbformat": 4,
  "vscode": {
   "interpreter": {
    "hash": "0063bcc605341cc03af99af1c3d4af8542643b65cfead928c8102ff8d3902e21"
   }
  }
 },
 "nbformat": 4,
 "nbformat_minor": 2
}
