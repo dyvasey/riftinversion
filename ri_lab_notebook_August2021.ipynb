{
 "cells": [
  {
   "cell_type": "markdown",
   "id": "d5343787",
   "metadata": {},
   "source": [
    "## Lab Notebook - Rift Inversion Project\n",
    "This Jupyter notebooks serves as a record of modeling runs done on Stampede2 as part of the rift inversion project. Each cell includes a note of the current modeling goal and the code to generate the resulting models, as well as a report on the model results.\n",
    "\n",
    "__NOTE__: Never run all cells, model inputs are designed to be temporary"
   ]
  },
  {
   "cell_type": "code",
   "execution_count": 2,
   "id": "8a470fd6",
   "metadata": {},
   "outputs": [],
   "source": [
    "import ripropagate\n",
    "\n",
    "# Key function: generate\n",
    "# Parameters in generate: lthick,evel,etime,output,ver"
   ]
  },
  {
   "cell_type": "markdown",
   "id": "495ef842",
   "metadata": {},
   "source": [
    "### 8/2/21 ###\n",
    "* 1e19 and 1e20 viscosity models finished running on Stampede2. 1e19 models both had errors (one convergence, one something else) after ~10 Myr. 1e20 models timed out after about ~13 Myr at 48 hours. No sign of weird field mixing in the results. Having diff creep in the mantle lithosphere doesn't seem to make a major impact.\n",
    "* Still running 1e18 models for comparison\n",
    "* Changed base prm file to have corrected Boundary temperature model, with 1573 set as the bottom temperature.\n",
    "* Currently upgrading local system to dealii 9.3.0 and ASPECT 2.4.0-pre. Will do the same on Stampede2 once 1e18 models have finished."
   ]
  },
  {
   "cell_type": "markdown",
   "id": "f1223ed4",
   "metadata": {},
   "source": [
    "### 8/4/21 ###\n",
    "* 1e18 models finished as well. No convergence errors but only ran to about 7 Myr. No weird field mixing.\n",
    "* Realized this whole set of models was accidentally run with max non-linear iterations at 1 instead of 100; have reverted that now, but not sure how it might have influenced results, especially speeds.\n",
    "* Currently setting base model to minimum viscosity of 1e20 with diffusion creep in asthenosphere only. Added particle tracing following John's continental extension cookbook template.\n",
    "* Stampede2 now upgraded to dealii 9.3.0 and ASPECT 2.4.0-pre, so future models being run on that. Still having issues getting it locally.\n",
    "* Going to run a test of this new setup with time set to 0."
   ]
  },
  {
   "cell_type": "code",
   "execution_count": 2,
   "id": "714569cb",
   "metadata": {},
   "outputs": [],
   "source": [
    "ripropagate.generate(etime=0,output='./080421_ri_test') "
   ]
  },
  {
   "cell_type": "markdown",
   "id": "88a3ba8c",
   "metadata": {},
   "source": [
    "* This seems to have worked ok once particle number was upped to 48e4. Going to try running this for real."
   ]
  },
  {
   "cell_type": "code",
   "execution_count": 2,
   "id": "db34fcda",
   "metadata": {},
   "outputs": [],
   "source": [
    "ripropagate.generate(etime=20,output='./080421_ri') "
   ]
  },
  {
   "cell_type": "markdown",
   "id": "17d5aa2e",
   "metadata": {},
   "source": [
    "### 8/5/21 ###\n",
    "* This model crashed after about 2.5 Myr with an error with particle generation\n",
    "* Need to check with John about this error. In the meantime, going to re-run a version of this model without particles for direct comparison (and the right number of nonlinear iterations)."
   ]
  },
  {
   "cell_type": "code",
   "execution_count": 4,
   "id": "60db58e1",
   "metadata": {},
   "outputs": [],
   "source": [
    "ripropagate.generate(etime=0,output='./080521_ri_test',file='ri_base_nopart.prm') "
   ]
  },
  {
   "cell_type": "code",
   "execution_count": 5,
   "id": "562ef2b9",
   "metadata": {},
   "outputs": [],
   "source": [
    "ripropagate.generate(etime=20,output='./080521_ri',file='ri_base_nopart.prm') "
   ]
  },
  {
   "cell_type": "markdown",
   "id": "9ecbdbbb",
   "metadata": {},
   "source": [
    "### 8/6/21 ###\n",
    "* 0805 model is still running, but going to try reducing the number of particles and allowing cells to not have particles"
   ]
  },
  {
   "cell_type": "code",
   "execution_count": 2,
   "id": "f1ade80c",
   "metadata": {},
   "outputs": [],
   "source": [
    "ripropagate.generate(etime=0,output='./080621_ri_test',file='ri_base.prm') "
   ]
  },
  {
   "cell_type": "markdown",
   "id": "9d2294b1",
   "metadata": {},
   "source": [
    "### 8/9/21 ###\n",
    "* This test failed, still got angry about cells without particles even though I tried to enable that. Seems in idev testing that changing interpolation to \"cell average\" may help.\n",
    "* 0805 model is done and looks good - actually ran to completion (20 Myr) in less than 48 hours - due to 2.4 upgrade or lack of noninitial strain field?\n",
    "* Cell average test (0806 ca) actually worked. Going to try running this to 20 Myr)"
   ]
  },
  {
   "cell_type": "code",
   "execution_count": 5,
   "id": "8db797ca",
   "metadata": {},
   "outputs": [],
   "source": [
    "ripropagate.generate(etime=20,output='./080921_ri',file='ri_base.prm') "
   ]
  },
  {
   "cell_type": "markdown",
   "id": "14742732",
   "metadata": {},
   "source": [
    "### 8/11/21 ###\n",
    "* Made some underlying Python code changes. Geotherm has now been moved to a function in the geophysics module of geoscripts. Composition has been added to ripropagate and so composition files will now be produced here in the notebooks. The \"generate\" function now also has the ability to change strain softening values with the parameter \"soft.\"\n",
    "* Going to try inverting the 0809 model to see how that works and if particle tracing stays consistent.\n",
    "* Cell average particle interpolation not ideal, so may need to adjust that method in the future."
   ]
  },
  {
   "cell_type": "code",
   "execution_count": 4,
   "id": "1b926ebc",
   "metadata": {},
   "outputs": [],
   "source": [
    "ripropagate.generate(etime=20,evel=-1,output='./081121_ri',soft=0.375) "
   ]
  },
  {
   "cell_type": "markdown",
   "id": "45ff2c3f",
   "metadata": {},
   "source": [
    "* Cell average particles model was really wonky. Cancelling the inversion for now."
   ]
  },
  {
   "cell_type": "markdown",
   "id": "83b42cf2",
   "metadata": {},
   "source": [
    "### 8/12/21 ###\n",
    "* Realized that these aren't passive particles, so need to have an adequate number. Going to revise particle number back to 48e4 but keep cell averaging to see if it avoids errors.\n",
    "* Also going to invert the no particles model from last week to make sure diffusion creep working ok."
   ]
  },
  {
   "cell_type": "code",
   "execution_count": 3,
   "id": "293106f6",
   "metadata": {},
   "outputs": [],
   "source": [
    "ripropagate.generate(etime=20,evel=-1,output='./081221_ri_a',file='ri_base_nopart.prm',soft=0.375,ver='a') "
   ]
  },
  {
   "cell_type": "code",
   "execution_count": 4,
   "id": "40ffa54c",
   "metadata": {},
   "outputs": [
    {
     "data": {
      "image/png": "[encoded data removed]",
      "text/plain": [
       "<Figure size 432x288 with 2 Axes>"
      ]
     },
     "metadata": {
      "needs_background": "light"
     },
     "output_type": "display_data"
    }
   ],
   "source": [
    "ripropagate.generate(etime=0,output='./081221_ri_b_test') \n",
    "ripropagate.comp_ascii(output='./081221_ri_b_test')"
   ]
  },
  {
   "cell_type": "code",
   "execution_count": 5,
   "id": "794f5bd7",
   "metadata": {},
   "outputs": [],
   "source": [
    "ripropagate.generate(etime=20,output='./081221_ri_b',ver='b') "
   ]
  },
  {
   "cell_type": "code",
   "execution_count": null,
   "id": "e23d8681",
   "metadata": {},
   "outputs": [],
   "source": []
  }
 ],
 "metadata": {
  "kernelspec": {
   "display_name": "Python 3 (ipykernel)",
   "language": "python",
   "name": "python3"
  },
  "language_info": {
   "codemirror_mode": {
    "name": "ipython",
    "version": 3
   },
   "file_extension": ".py",
   "mimetype": "text/x-python",
   "name": "python",
   "nbconvert_exporter": "python",
   "pygments_lexer": "ipython3",
   "version": "3.8.10"
  }
 },
 "nbformat": 4,
 "nbformat_minor": 5
}
