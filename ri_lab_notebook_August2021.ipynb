{
 "cells": [
  {
   "cell_type": "markdown",
   "id": "d5343787",
   "metadata": {},
   "source": [
    "## Lab Notebook - Rift Inversion Project\n",
    "This Jupyter notebooks serves as a record of modeling runs done on Stampede2 as part of the rift inversion project. Each cell includes a note of the current modeling goal and the code to generate the resulting models, as well as a report on the model results.\n",
    "\n",
    "__NOTE__: Never run all cells, model inputs are designed to be temporary"
   ]
  },
  {
   "cell_type": "code",
   "execution_count": 1,
   "id": "8a470fd6",
   "metadata": {},
   "outputs": [],
   "source": [
    "import ripropagate\n",
    "\n",
    "# Key function: generate\n",
    "# Parameters in generate: lthick,evel,etime,output,ver"
   ]
  },
  {
   "cell_type": "markdown",
   "id": "495ef842",
   "metadata": {},
   "source": [
    "### 8/2/21 ###\n",
    "* 1e19 and 1e20 viscosity models finished running on Stampede2. 1e19 models both had errors (one convergence, one something else) after ~10 Myr. 1e20 models timed out after about ~13 Myr at 48 hours. No sign of weird field mixing in the results. Having diff creep in the mantle lithosphere doesn't seem to make a major impact.\n",
    "* Still running 1e18 models for comparison\n",
    "* Changed base prm file to have corrected Boundary temperature model, with 1573 set as the bottom temperature.\n",
    "* Currently upgrading local system to dealii 9.3.0 and ASPECT 2.4.0-pre. Will do the same on Stampede2 once 1e18 models have finished."
   ]
  },
  {
   "cell_type": "code",
   "execution_count": null,
   "id": "25b422b5",
   "metadata": {},
   "outputs": [],
   "source": []
  }
 ],
 "metadata": {
  "kernelspec": {
   "display_name": "Python 3 (ipykernel)",
   "language": "python",
   "name": "python3"
  },
  "language_info": {
   "codemirror_mode": {
    "name": "ipython",
    "version": 3
   },
   "file_extension": ".py",
   "mimetype": "text/x-python",
   "name": "python",
   "nbconvert_exporter": "python",
   "pygments_lexer": "ipython3",
   "version": "3.8.10"
  }
 },
 "nbformat": 4,
 "nbformat_minor": 5
}
