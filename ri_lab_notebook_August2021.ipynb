{
 "cells": [
  {
   "cell_type": "markdown",
   "id": "d5343787",
   "metadata": {},
   "source": [
    "## Lab Notebook - Rift Inversion Project\n",
    "This Jupyter notebooks serves as a record of modeling runs done on Stampede2 as part of the rift inversion project. Each cell includes a note of the current modeling goal and the code to generate the resulting models, as well as a report on the model results.\n",
    "\n",
    "__NOTE__: Never run all cells, model inputs are designed to be temporary"
   ]
  },
  {
   "cell_type": "code",
   "execution_count": 3,
   "id": "8a470fd6",
   "metadata": {},
   "outputs": [],
   "source": [
    "import ripropagate\n",
    "\n",
    "# Key function: generate\n",
    "# Parameters in generate: lthick,evel,etime,output,ver"
   ]
  },
  {
   "cell_type": "markdown",
   "id": "495ef842",
   "metadata": {},
   "source": [
    "### 8/2/21 ###\n",
    "* 1e19 and 1e20 viscosity models finished running on Stampede2. 1e19 models both had errors (one convergence, one something else) after ~10 Myr. 1e20 models timed out after about ~13 Myr at 48 hours. No sign of weird field mixing in the results. Having diff creep in the mantle lithosphere doesn't seem to make a major impact.\n",
    "* Still running 1e18 models for comparison\n",
    "* Changed base prm file to have corrected Boundary temperature model, with 1573 set as the bottom temperature.\n",
    "* Currently upgrading local system to dealii 9.3.0 and ASPECT 2.4.0-pre. Will do the same on Stampede2 once 1e18 models have finished."
   ]
  },
  {
   "cell_type": "markdown",
   "id": "f1223ed4",
   "metadata": {},
   "source": [
    "### 8/4/21 ###\n",
    "* 1e18 models finished as well. No convergence errors but only ran to about 7 Myr. No weird field mixing.\n",
    "* Realized this whole set of models was accidentally run with max non-linear iterations at 1 instead of 100; have reverted that now, but not sure how it might have influenced results, especially speeds.\n",
    "* Currently setting base model to minimum viscosity of 1e20 with diffusion creep in asthenosphere only. Added particle tracing following John's continental extension cookbook template.\n",
    "* Stampede2 now upgraded to dealii 9.3.0 and ASPECT 2.4.0-pre, so future models being run on that. Still having issues getting it locally.\n",
    "* Going to run a test of this new setup with time set to 0."
   ]
  },
  {
   "cell_type": "code",
   "execution_count": 2,
   "id": "714569cb",
   "metadata": {},
   "outputs": [],
   "source": [
    "ripropagate.generate(etime=0,output='./080421_ri_test') "
   ]
  },
  {
   "cell_type": "markdown",
   "id": "88a3ba8c",
   "metadata": {},
   "source": [
    "* This seems to have worked ok once particle number was upped to 48e4. Going to try running this for real."
   ]
  },
  {
   "cell_type": "code",
   "execution_count": 2,
   "id": "db34fcda",
   "metadata": {},
   "outputs": [],
   "source": [
    "ripropagate.generate(etime=20,output='./080421_ri') "
   ]
  },
  {
   "cell_type": "markdown",
   "id": "17d5aa2e",
   "metadata": {},
   "source": [
    "### 8/5/21 ###\n",
    "* This model crashed after about 2.5 Myr with an error with particle generation\n",
    "* Need to check with John about this error. In the meantime, going to re-run a version of this model without particles for direct comparison (and the right number of nonlinear iterations)."
   ]
  },
  {
   "cell_type": "code",
   "execution_count": 4,
   "id": "60db58e1",
   "metadata": {},
   "outputs": [],
   "source": [
    "ripropagate.generate(etime=0,output='./080521_ri_test',file='ri_base_nopart.prm') "
   ]
  },
  {
   "cell_type": "code",
   "execution_count": 5,
   "id": "562ef2b9",
   "metadata": {},
   "outputs": [],
   "source": [
    "ripropagate.generate(etime=20,output='./080521_ri',file='ri_base_nopart.prm') "
   ]
  },
  {
   "cell_type": "code",
   "execution_count": null,
   "id": "f2b6eb4f",
   "metadata": {},
   "outputs": [],
   "source": []
  }
 ],
 "metadata": {
  "kernelspec": {
   "display_name": "Python 3 (ipykernel)",
   "language": "python",
   "name": "python3"
  },
  "language_info": {
   "codemirror_mode": {
    "name": "ipython",
    "version": 3
   },
   "file_extension": ".py",
   "mimetype": "text/x-python",
   "name": "python",
   "nbconvert_exporter": "python",
   "pygments_lexer": "ipython3",
   "version": "3.8.10"
  }
 },
 "nbformat": 4,
 "nbformat_minor": 5
}
