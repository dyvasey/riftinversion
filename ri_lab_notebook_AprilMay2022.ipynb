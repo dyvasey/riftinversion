{
 "cells": [
  {
   "cell_type": "markdown",
   "metadata": {},
   "source": [
    "## Lab Notebook - Rift Inversion Project ##\n",
    "This Jupyter notebooks serves as a record of modeling runs done on Stampede2 as part of the rift inversion project. Each cell includes a note of the current modeling goal and the code to generate the resulting models, as well as a report on the model results.\n",
    "\n",
    "__NOTE__: Never run all cells, model inputs are designed to be temporary"
   ]
  },
  {
   "cell_type": "code",
   "execution_count": 1,
   "metadata": {},
   "outputs": [],
   "source": [
    "import ripropagate\n",
    "\n",
    "# Key function: generate\n",
    "# Parameters in generate: lthick,evel,etime,output,ver,soft,shell,file"
   ]
  },
  {
   "cell_type": "markdown",
   "metadata": {},
   "source": [
    "## 4/18/2022 ##\n",
    "* Need to set up new test with lower timestep to see if that fixes strain rate \"explosion\" problem."
   ]
  },
  {
   "cell_type": "markdown",
   "metadata": {},
   "source": []
  }
 ],
 "metadata": {
  "interpreter": {
   "hash": "0063bcc605341cc03af99af1c3d4af8542643b65cfead928c8102ff8d3902e21"
  },
  "kernelspec": {
   "display_name": "Python 3.9.7 ('aspect')",
   "language": "python",
   "name": "python3"
  },
  "language_info": {
   "codemirror_mode": {
    "name": "ipython",
    "version": 3
   },
   "file_extension": ".py",
   "mimetype": "text/x-python",
   "name": "python",
   "nbconvert_exporter": "python",
   "pygments_lexer": "ipython3",
   "version": "3.9.7"
  },
  "orig_nbformat": 4
 },
 "nbformat": 4,
 "nbformat_minor": 2
}
