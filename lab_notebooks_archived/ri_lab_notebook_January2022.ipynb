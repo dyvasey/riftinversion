{
 "cells": [
  {
   "cell_type": "markdown",
   "id": "500e3a9c",
   "metadata": {},
   "source": [
    "## Lab Notebook - Rift Inversion Project ##\n",
    "This Jupyter notebooks serves as a record of modeling runs done on Stampede2 as part of the rift inversion project. Each cell includes a note of the current modeling goal and the code to generate the resulting models, as well as a report on the model results.\n",
    "\n",
    "__NOTE__: Never run all cells, model inputs are designed to be temporary"
   ]
  },
  {
   "cell_type": "code",
   "execution_count": 10,
   "id": "8af19de8",
   "metadata": {},
   "outputs": [],
   "source": [
    "import os\n",
    "import filecmp\n",
    "import ripropagate\n",
    "\n",
    "# Key function: generate\n",
    "# Parameters in generate: lthick,evel,etime,output,ver,soft,shell,file"
   ]
  },
  {
   "cell_type": "markdown",
   "id": "0fd27e03",
   "metadata": {},
   "source": [
    "## 1/5/2022 ##\n",
    "* 600 km models were running really slow, so we're reverting back to 400 km depth models\n",
    "* However, need to add 2 km zone in to avoid abrupt transition from 1 to 4 km resolution"
   ]
  },
  {
   "cell_type": "code",
   "execution_count": 2,
   "id": "53c6fb03",
   "metadata": {},
   "outputs": [],
   "source": [
    "ripropagate.generate(etime=12.5,evel=1,output='./010522_ri',file='ri_base.prm',soft=0.375,depth=400,shell='run_base_nal.sh')"
   ]
  },
  {
   "cell_type": "markdown",
   "id": "40e48e53",
   "metadata": {},
   "source": [
    "## 1/6/2022 ##\n",
    "* Finished rifting, inverting now"
   ]
  },
  {
   "cell_type": "code",
   "execution_count": 2,
   "id": "8f19b92b",
   "metadata": {},
   "outputs": [],
   "source": [
    "ripropagate.generate(etime=32.5,evel=-1,output='./010622_ri',file='ri_base.prm',soft=0.375,depth=400,shell='run_base_nal.sh')"
   ]
  },
  {
   "cell_type": "markdown",
   "id": "7761fb02",
   "metadata": {},
   "source": [
    "## 1/13/2022 ##\n",
    "* Inversion successful, but orogen result different from old (1 then 4 km) AMR scheme - going to try with 1 km all the way down and a deeper transition to 2 km"
   ]
  },
  {
   "cell_type": "code",
   "execution_count": 3,
   "id": "56aab1e2",
   "metadata": {},
   "outputs": [],
   "source": [
    "ripropagate.generate(etime=12.5,evel=1,output='./011322_ri_a',file='ri_base_all1km.prm',soft=0.375,depth=400,shell='run_base_nal.sh',\n",
    "                    ver='a')\n",
    "ripropagate.generate(etime=12.5,evel=1,output='./011322_ri_b',file='ri_base_1kmdeep.prm',soft=0.375,depth=400,shell='run_base_nal.sh',\n",
    "                    ver='b')"
   ]
  },
  {
   "cell_type": "markdown",
   "id": "a8420783",
   "metadata": {},
   "source": [
    "## 1/14/2022 ##\n",
    "* B model finished rifting, inverting now."
   ]
  },
  {
   "cell_type": "code",
   "execution_count": 2,
   "id": "4397735c",
   "metadata": {},
   "outputs": [],
   "source": [
    "ripropagate.generate(etime=32.5,evel=-1,output='./011422_ri_b',file='ri_base_1kmdeep.prm',soft=0.375,depth=400,shell='run_base_nal.sh',\n",
    "                    ver='b')"
   ]
  },
  {
   "cell_type": "markdown",
   "id": "30d8d9ae",
   "metadata": {},
   "source": [
    "## 1/15/2022 ##\n",
    "* A model finished rifting, starting that inversion"
   ]
  },
  {
   "cell_type": "code",
   "execution_count": 2,
   "id": "18c39085",
   "metadata": {},
   "outputs": [],
   "source": [
    "ripropagate.generate(etime=32.5,evel=-1,output='./011522_ri_a',file='ri_base_all1km.prm',soft=0.375,depth=400,shell='run_base_nal.sh',\n",
    "                    ver='a')"
   ]
  },
  {
   "cell_type": "markdown",
   "id": "9ed2a1e0",
   "metadata": {},
   "source": [
    "## 1/27/2022 ##\n",
    "* rewrote composition script generator to have random seed input\n",
    "* testing this now to observe if files are identical"
   ]
  },
  {
   "cell_type": "code",
   "execution_count": 16,
   "id": "c27c0ef6",
   "metadata": {},
   "outputs": [
    {
     "name": "stdout",
     "output_type": "stream",
     "text": [
      "['composition.txt', 'composition_test.txt']\n",
      "True\n"
     ]
    },
    {
     "data": {
      "image/png": "[encoded data removed]",
      "text/plain": [
       "<Figure size 432x288 with 2 Axes>"
      ]
     },
     "metadata": {
      "needs_background": "light"
     },
     "output_type": "display_data"
    },
    {
     "data": {
      "image/png": "[encoded data removed]",
      "text/plain": [
       "<Figure size 432x288 with 2 Axes>"
      ]
     },
     "metadata": {
      "needs_background": "light"
     },
     "output_type": "display_data"
    }
   ],
   "source": [
    "os.makedirs('random_seed_test',exist_ok=True)\n",
    "ripropagate.comp_ascii(y=400,output='./random_seed_test',seed=25)\n",
    "\n",
    "\n",
    "original = './random_seed_test/composition.txt'\n",
    "new = './random_seed_test/composition_test.txt'\n",
    "\n",
    "os.replace(original,new)\n",
    "ripropagate.comp_ascii(y=400,output='./random_seed_test',seed=25)\n",
    "print(os.listdir('./random_seed_test'))\n",
    "\n",
    "# Diff the two files\n",
    "result = filecmp.cmp(original, new, shallow=False)\n",
    "\n",
    "# Should be true if files identical\n",
    "print(result)"
   ]
  },
  {
   "cell_type": "code",
   "execution_count": null,
   "id": "3c9bfb46",
   "metadata": {},
   "outputs": [],
   "source": []
  }
 ],
 "metadata": {
  "kernelspec": {
   "display_name": "Python 3 (ipykernel)",
   "language": "python",
   "name": "python3"
  },
  "language_info": {
   "codemirror_mode": {
    "name": "ipython",
    "version": 3
   },
   "file_extension": ".py",
   "mimetype": "text/x-python",
   "name": "python",
   "nbconvert_exporter": "python",
   "pygments_lexer": "ipython3",
   "version": "3.9.7"
  }
 },
 "nbformat": 4,
 "nbformat_minor": 5
}
