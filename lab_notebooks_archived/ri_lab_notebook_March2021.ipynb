{
 "cells": [
  {
   "cell_type": "markdown",
   "id": "mediterranean-memorabilia",
   "metadata": {},
   "source": [
    "## Lab Notebook - Rift Inversion Project\n",
    "This Jupyter notebooks serves as a record of modeling runs done on Stampede2 as part of the rift inversion project. Each cell includes a note of the current modeling goal and the code to generate the resulting models, as well as a report on the model results.\n",
    "\n",
    "__NOTE__: Never run all cells, model inputs are designed to be temporary"
   ]
  },
  {
   "cell_type": "code",
   "execution_count": 1,
   "id": "normal-remains",
   "metadata": {},
   "outputs": [],
   "source": [
    "import ripropagate\n",
    "\n",
    "# Key function: generate\n",
    "# Parameters in generate: lthick,evel,etime,output,ver"
   ]
  },
  {
   "cell_type": "markdown",
   "id": "common-parent",
   "metadata": {},
   "source": [
    "### 3/12/21 ###\n",
    "* Migrating previous createprm.py script to notebook format to make sure record kept of all models\n",
    "\n",
    "* Previous runs - found that CFL at 0.2 with diffusion creep runs slow (~14 Myr in 96 hours) but is at least stable. CFL at 0.5 with 10000 year maximum timestep is unstable (crashed at ~7 Myr).\n",
    "\n",
    "* Planning to put in 3 models today: \n",
    "    * First model (a) will be reference model (100 km lith thickness, 1 cm/yr extension velocity) run from checkpoint of previous model (030121) until breakup at ~12 Myr.\n",
    "    * Second model (b) will be reference model run from start to halfway to breakup (~6 Myr).\n",
    "    * Third model (c) will be model with parameters to encourage asymmetric rifting (80 km lith thickness, 2 cm/yr) run to 20 Myr to find time of breakup.\n",
    "\n",
    "Turns out that previous diffusion creep model did something funky with upper crust, so holding off on putting these models in for now.\n"
   ]
  },
  {
   "cell_type": "markdown",
   "id": "classical-consumption",
   "metadata": {},
   "source": [
    "### 3/15/21 ###\n",
    "* Reverting back to dislocation creep only models until we can troubleshoot diffusion creep. Running models as described in 3/12, but using only dislocation creep base.\n",
    "* No checkpoint available for this model, so need to start with just halfway to breakup, then run second model to breakup from there.\n",
    "* Models submitted to queue as 7429640(a) and 7429649(b)"
   ]
  },
  {
   "cell_type": "code",
   "execution_count": 4,
   "id": "collective-context",
   "metadata": {},
   "outputs": [],
   "source": [
    "# Reference model halfway to breakup\n",
    "ripropagate.generate(etime=6,output='./031521_ri_a',ver='a') \n",
    "\n",
    "# Asymmetric model test run\n",
    "ripropagate.generate(etime=20,lthick=80,evel=2,output='./031521_ri_b',ver='b') "
   ]
  },
  {
   "cell_type": "markdown",
   "id": "fossil-upper",
   "metadata": {},
   "source": [
    "### 3/17/21 ###\n",
    "* 031521_a crashed at 5.6 Myr. Restarting with 10000 year maximum timestep."
   ]
  },
  {
   "cell_type": "code",
   "execution_count": 3,
   "id": "continued-calculator",
   "metadata": {},
   "outputs": [],
   "source": [
    "ripropagate.generate(etime=6,output='./031521_ri_a_restart',ver='a') "
   ]
  },
  {
   "cell_type": "markdown",
   "id": "binding-briefing",
   "metadata": {},
   "source": [
    "### 3/19/21 ###\n",
    "* Models both finished. a_restart completed. b timed out after 48 hours at ~17 Myr. Reached breakup at ~11 Myr\n",
    "* Next model run\n",
    "    * a. continue a_restart to 12 Myr\n",
    "    * b. invert a_restart for 20 Myr at 1 cm\n",
    "    * c. Run b again to get to halfway breakup"
   ]
  },
  {
   "cell_type": "code",
   "execution_count": 3,
   "id": "eight-indicator",
   "metadata": {},
   "outputs": [],
   "source": [
    "ripropagate.generate(etime=12,output='./031921_ri_a',ver='a')\n",
    "ripropagate.generate(etime=26,evel=-1,output='./031921_ri_b',ver='b') \n",
    "ripropagate.generate(etime=5.5,lthick=80,evel=2,output='./031921_ri_c',ver='c') "
   ]
  },
  {
   "cell_type": "markdown",
   "id": "planned-radio",
   "metadata": {},
   "source": [
    "### 3/21/21 ###\n",
    "* Models finished. a and c successful. b crashed during inversion at ~7.6 Myr. Plan to change all models to 5000 year max timestep.\n",
    "* Next steps:\n",
    "    * Invert  031921_a (new a)\n",
    "    * Restart 031921_b with lower timestep (new b)\n",
    "    * Invert 031921_c (new c)\n",
    "    * Continue 031921_c to 11 Myr (d)"
   ]
  },
  {
   "cell_type": "code",
   "execution_count": 2,
   "id": "final-pilot",
   "metadata": {},
   "outputs": [],
   "source": [
    "ripropagate.generate(etime=32,evel=-1,output='./032121_ri_a',ver='a')\n",
    "ripropagate.generate(etime=26,evel=-1,output='./032121_ri_b',ver='b') \n",
    "ripropagate.generate(etime=25.5,lthick=80,evel=-1,output='./032121_ri_c',ver='c')\n",
    "ripropagate.generate(etime=11,lthick=80,evel=2,output='./032121_ri_d',ver='d')"
   ]
  },
  {
   "cell_type": "markdown",
   "id": "unexpected-fields",
   "metadata": {},
   "source": [
    "### 3/22/21 ###\n",
    "* Model d finished. Need to start inversion (new d). Other 3 are still running.\n",
    "* Checked this model and noted that full breakup not really reached at 11 Myr this time. Inverting anyway, but may need to be more careful about replicating with same composition file for future model runs."
   ]
  },
  {
   "cell_type": "code",
   "execution_count": 2,
   "id": "indoor-silver",
   "metadata": {},
   "outputs": [],
   "source": [
    "ripropagate.generate(etime=31,lthick=80,evel=-1,output='./032221_ri_d',ver='d')"
   ]
  },
  {
   "cell_type": "markdown",
   "id": "convertible-hours",
   "metadata": {},
   "source": [
    "### 3/30/21 ###\n",
    "* a-c models finished a few days ago with no issues.\n",
    "* d model finished today. Had to restart after MPI system error stopped it for a while."
   ]
  },
  {
   "cell_type": "code",
   "execution_count": null,
   "id": "fossil-jordan",
   "metadata": {},
   "outputs": [],
   "source": []
  }
 ],
 "metadata": {
  "kernelspec": {
   "display_name": "Python 3 (ipykernel)",
   "language": "python",
   "name": "python3"
  },
  "language_info": {
   "codemirror_mode": {
    "name": "ipython",
    "version": 3
   },
   "file_extension": ".py",
   "mimetype": "text/x-python",
   "name": "python",
   "nbconvert_exporter": "python",
   "pygments_lexer": "ipython3",
   "version": "3.9.7"
  }
 },
 "nbformat": 4,
 "nbformat_minor": 5
}
