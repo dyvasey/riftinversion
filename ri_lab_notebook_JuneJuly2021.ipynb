{
 "cells": [
  {
   "cell_type": "markdown",
   "id": "mediterranean-memorabilia",
   "metadata": {},
   "source": [
    "## Lab Notebook - Rift Inversion Project\n",
    "This Jupyter notebooks serves as a record of modeling runs done on Stampede2 as part of the rift inversion project. Each cell includes a note of the current modeling goal and the code to generate the resulting models, as well as a report on the model results.\n",
    "\n",
    "__NOTE__: Never run all cells, model inputs are designed to be temporary"
   ]
  },
  {
   "cell_type": "code",
   "execution_count": 2,
   "id": "normal-remains",
   "metadata": {},
   "outputs": [],
   "source": [
    "import ripropagate\n",
    "\n",
    "# Key function: generate\n",
    "# Parameters in generate: lthick,evel,etime,output,ver"
   ]
  },
  {
   "cell_type": "markdown",
   "id": "6d3e4979",
   "metadata": {},
   "source": [
    "### 6/29/21 ###\n",
    "* Starting model development again. First step is to add elasticity to previous model setup. \n",
    "* Followed approach in Sandiford et al., 2021.\n",
    "* Added 3 new compositional fields for ve_stress and added field values to other parameters and the composition scripts as needed\n",
    "* Enabled elasticity in the formulation subsection\n",
    "* In material model, added elastic shear moduli, include viscoelasticity, fixed elastic time step, and stress averaging.\n",
    "* Running on local machine first with time set to 0 to see if model setup succeeds."
   ]
  },
  {
   "cell_type": "code",
   "execution_count": null,
   "id": "fossil-jordan",
   "metadata": {},
   "outputs": [],
   "source": [
    "ripropagate.generate(etime=0,output='./062921_ri') "
   ]
  },
  {
   "cell_type": "markdown",
   "id": "2ce51620",
   "metadata": {},
   "source": [
    "* Test model ran successfully. Putting the same model into Stampede2 with a 12 Myr runtime."
   ]
  },
  {
   "cell_type": "code",
   "execution_count": null,
   "id": "ec727d82",
   "metadata": {},
   "outputs": [],
   "source": [
    "ripropagate.generate(etime=12,output='./062921_ri') "
   ]
  },
  {
   "cell_type": "markdown",
   "id": "4abd2271",
   "metadata": {},
   "source": [
    "### 7/3/21 ###\n",
    "* Elasticity appears to have worked. Runinng the same model at 300 km depth now. Made necessary changes to prm and composition files.\n",
    "* Running test on local machine first.\n",
    "* Needed to modify base prm temperature function to have variable lithospheric thickness. Neglected to do this previously."
   ]
  },
  {
   "cell_type": "code",
   "execution_count": 3,
   "id": "3b3fe70d",
   "metadata": {},
   "outputs": [],
   "source": [
    "ripropagate.generate(etime=0,output='./070321_ri') "
   ]
  },
  {
   "cell_type": "markdown",
   "id": "109416d8",
   "metadata": {},
   "source": [
    "* Test looks good. Running on Stampede2 for 12 Myr."
   ]
  },
  {
   "cell_type": "code",
   "execution_count": 4,
   "id": "5a41d6ec",
   "metadata": {},
   "outputs": [],
   "source": [
    "ripropagate.generate(etime=12,output='./070321_ri') "
   ]
  },
  {
   "cell_type": "markdown",
   "id": "7df6292d",
   "metadata": {},
   "source": [
    "### 7/5/21 ### \n",
    "* Stampede2 model looks good, ran for 4.1 Myr in 48 hours. \n",
    "* Increasing the depth to 400 km, testing on local machine first"
   ]
  },
  {
   "cell_type": "code",
   "execution_count": 3,
   "id": "70d96ec8",
   "metadata": {},
   "outputs": [],
   "source": [
    "ripropagate.generate(etime=0,output='./070521_ri_test') "
   ]
  },
  {
   "cell_type": "markdown",
   "id": "622263eb",
   "metadata": {},
   "source": [
    "* Test failed due to segmentation fault. Suspect this may be due to a local machine issue. Going to try a full run on Stampede 2 for 12 Myr to see if same problem arises."
   ]
  },
  {
   "cell_type": "code",
   "execution_count": 4,
   "id": "0bdb49e8",
   "metadata": {},
   "outputs": [],
   "source": [
    "ripropagate.generate(etime=12,output='./070521_ri') "
   ]
  },
  {
   "cell_type": "markdown",
   "id": "41f960d1",
   "metadata": {},
   "source": [
    "### 7/9/21 ###\n",
    "* Model ran successfully on Stampede2, but only 3.3 Myr in 48 hours. \n",
    "* Planning to try adding diffusion creep back in by changing viscous flow law to composite and adding diffusion creep prefactors, grain size exponenets, activation energies/volumes.\n",
    "* Trying a local test first but don't expect it to succeed. "
   ]
  },
  {
   "cell_type": "code",
   "execution_count": 3,
   "id": "a3bdaf3e",
   "metadata": {},
   "outputs": [],
   "source": [
    "ripropagate.generate(etime=0,output='./070921_ri_test') "
   ]
  },
  {
   "cell_type": "markdown",
   "id": "463175e3",
   "metadata": {},
   "source": [
    "* Yep, failed twice with core dump. Trying on stampede instead."
   ]
  },
  {
   "cell_type": "code",
   "execution_count": 4,
   "id": "679e214e",
   "metadata": {},
   "outputs": [],
   "source": [
    "ripropagate.generate(etime=12,output='./070921_ri') "
   ]
  },
  {
   "cell_type": "markdown",
   "id": "7db5f490",
   "metadata": {},
   "source": [
    "### 7/10/21 ###\n",
    "* Model had convergence error after only 90,000 years.\n",
    "* Trying it again with harmonic viscosity averaging instead of geometric in case that makes a difference."
   ]
  },
  {
   "cell_type": "code",
   "execution_count": 3,
   "id": "828eb1ca",
   "metadata": {},
   "outputs": [],
   "source": [
    "ripropagate.generate(etime=12,output='./071021_ri') "
   ]
  },
  {
   "cell_type": "markdown",
   "id": "4743b6e4",
   "metadata": {},
   "source": [
    "### 7/12/21 ###\n",
    "* Didn't make any difference, model crashed at same time with same error.\n",
    "* Going to create a new branch for removing diffusion creep and testing the dislocation/400km model with a higher timestep 10000 years to test speed/stability."
   ]
  },
  {
   "cell_type": "code",
   "execution_count": null,
   "id": "a5bbb48c",
   "metadata": {},
   "outputs": [],
   "source": []
  }
 ],
 "metadata": {
  "kernelspec": {
   "display_name": "Python 3",
   "language": "python",
   "name": "python3"
  },
  "language_info": {
   "codemirror_mode": {
    "name": "ipython",
    "version": 3
   },
   "file_extension": ".py",
   "mimetype": "text/x-python",
   "name": "python",
   "nbconvert_exporter": "python",
   "pygments_lexer": "ipython3",
   "version": "3.8.10"
  }
 },
 "nbformat": 4,
 "nbformat_minor": 5
}
