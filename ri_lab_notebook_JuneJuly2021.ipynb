{
 "cells": [
  {
   "cell_type": "markdown",
   "id": "mediterranean-memorabilia",
   "metadata": {},
   "source": [
    "## Lab Notebook - Rift Inversion Project\n",
    "This Jupyter notebooks serves as a record of modeling runs done on Stampede2 as part of the rift inversion project. Each cell includes a note of the current modeling goal and the code to generate the resulting models, as well as a report on the model results.\n",
    "\n",
    "__NOTE__: Never run all cells, model inputs are designed to be temporary"
   ]
  },
  {
   "cell_type": "code",
   "execution_count": 2,
   "id": "normal-remains",
   "metadata": {},
   "outputs": [],
   "source": [
    "import ripropagate\n",
    "\n",
    "# Key function: generate\n",
    "# Parameters in generate: lthick,evel,etime,output,ver"
   ]
  },
  {
   "cell_type": "markdown",
   "id": "6d3e4979",
   "metadata": {},
   "source": [
    "### 6/29/21 ###\n",
    "* Starting model development again. First step is to add elasticity to previous model setup. \n",
    "* Followed approach in Sandiford et al., 2021.\n",
    "* Added 3 new compositional fields for ve_stress and added field values to other parameters and the composition scripts as needed\n",
    "* Enabled elasticity in the formulation subsection\n",
    "* In material model, added elastic shear moduli, include viscoelasticity, fixed elastic time step, and stress averaging.\n",
    "* Running on local machine first with time set to 0 to see if model setup succeeds."
   ]
  },
  {
   "cell_type": "code",
   "execution_count": 3,
   "id": "fossil-jordan",
   "metadata": {},
   "outputs": [],
   "source": [
    "ripropagate.generate(etime=0,output='./062921_ri') "
   ]
  },
  {
   "cell_type": "markdown",
   "id": "2ce51620",
   "metadata": {},
   "source": [
    "* Test model ran successfully. Putting the same model into Stampede2 with a 12 Myr runtime."
   ]
  },
  {
   "cell_type": "code",
   "execution_count": 5,
   "id": "ec727d82",
   "metadata": {},
   "outputs": [],
   "source": [
    "ripropagate.generate(etime=12,output='./062921_ri') "
   ]
  },
  {
   "cell_type": "markdown",
   "id": "bfb7565b",
   "metadata": {},
   "source": [
    "### 7/3/21 ###\n",
    "* Elasticity appears to have worked. Runinng the same model at 300 km depth now. Made necessary changes to prm and composition files.\n",
    "* Running test on local machine first."
   ]
  },
  {
   "cell_type": "code",
   "execution_count": 3,
   "id": "1fac8b48",
   "metadata": {},
   "outputs": [],
   "source": [
    "ripropagate.generate(etime=0,output='./070321_ri') "
   ]
  },
  {
   "cell_type": "code",
   "execution_count": null,
   "id": "cb2d2209",
   "metadata": {},
   "outputs": [],
   "source": []
  }
 ],
 "metadata": {
  "kernelspec": {
   "display_name": "Python 3",
   "language": "python",
   "name": "python3"
  },
  "language_info": {
   "codemirror_mode": {
    "name": "ipython",
    "version": 3
   },
   "file_extension": ".py",
   "mimetype": "text/x-python",
   "name": "python",
   "nbconvert_exporter": "python",
   "pygments_lexer": "ipython3",
   "version": "3.8.10"
  }
 },
 "nbformat": 4,
 "nbformat_minor": 5
}
