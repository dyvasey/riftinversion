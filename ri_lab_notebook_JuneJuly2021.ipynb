{
 "cells": [
  {
   "cell_type": "markdown",
   "id": "mediterranean-memorabilia",
   "metadata": {},
   "source": [
    "## Lab Notebook - Rift Inversion Project\n",
    "This Jupyter notebooks serves as a record of modeling runs done on Stampede2 as part of the rift inversion project. Each cell includes a note of the current modeling goal and the code to generate the resulting models, as well as a report on the model results.\n",
    "\n",
    "__NOTE__: Never run all cells, model inputs are designed to be temporary"
   ]
  },
  {
   "cell_type": "code",
   "execution_count": 2,
   "id": "normal-remains",
   "metadata": {},
   "outputs": [],
   "source": [
    "import ripropagate\n",
    "\n",
    "# Key function: generate\n",
    "# Parameters in generate: lthick,evel,etime,output,ver"
   ]
  },
  {
   "cell_type": "markdown",
   "id": "6d3e4979",
   "metadata": {},
   "source": [
    "### 6/29/21 ###\n",
    "* Starting model development again. First step is to add elasticity to previous model setup. \n",
    "* Followed approach in Sandiford et al., 2021.\n",
    "* Added 3 new compositional fields for ve_stress and added field values to other parameters and the composition scripts as needed\n",
    "* Enabled elasticity in the formulation subsection\n",
    "* In material model, added elastic shear moduli, include viscoelasticity, fixed elastic time step, and stress averaging.\n",
    "* Running on local machine first with time set to 0 to see if model setup succeeds."
   ]
  },
  {
   "cell_type": "code",
   "execution_count": null,
   "id": "fossil-jordan",
   "metadata": {},
   "outputs": [],
   "source": [
    "ripropagate.generate(etime=0,output='./062921_ri') "
   ]
  },
  {
   "cell_type": "markdown",
   "id": "2ce51620",
   "metadata": {},
   "source": [
    "* Test model ran successfully. Putting the same model into Stampede2 with a 12 Myr runtime."
   ]
  },
  {
   "cell_type": "code",
   "execution_count": null,
   "id": "ec727d82",
   "metadata": {},
   "outputs": [],
   "source": [
    "ripropagate.generate(etime=12,output='./062921_ri') "
   ]
  },
  {
   "cell_type": "markdown",
   "id": "4abd2271",
   "metadata": {},
   "source": [
    "### 7/3/21 ###\n",
    "* Elasticity appears to have worked. Runinng the same model at 300 km depth now. Made necessary changes to prm and composition files.\n",
    "* Running test on local machine first.\n",
    "* Needed to modify base prm temperature function to have variable lithospheric thickness. Neglected to do this previously."
   ]
  },
  {
   "cell_type": "code",
   "execution_count": 3,
   "id": "3b3fe70d",
   "metadata": {},
   "outputs": [],
   "source": [
    "ripropagate.generate(etime=0,output='./070321_ri') "
   ]
  },
  {
   "cell_type": "markdown",
   "id": "109416d8",
   "metadata": {},
   "source": [
    "* Test looks good. Running on Stampede2 for 12 Myr."
   ]
  },
  {
   "cell_type": "code",
   "execution_count": 4,
   "id": "5a41d6ec",
   "metadata": {},
   "outputs": [],
   "source": [
    "ripropagate.generate(etime=12,output='./070321_ri') "
   ]
  },
  {
   "cell_type": "markdown",
   "id": "7df6292d",
   "metadata": {},
   "source": [
    "### 7/5/21 ### \n",
    "* Stampede2 model looks good, ran for 4.1 Myr in 48 hours. \n",
    "* Increasing the depth to 400 km, testing on local machine first"
   ]
  },
  {
   "cell_type": "code",
   "execution_count": 3,
   "id": "70d96ec8",
   "metadata": {},
   "outputs": [],
   "source": [
    "ripropagate.generate(etime=0,output='./070521_ri_test') "
   ]
  },
  {
   "cell_type": "markdown",
   "id": "622263eb",
   "metadata": {},
   "source": [
    "* Test failed due to segmentation fault. Suspect this may be due to a local machine issue. Going to try a full run on Stampede 2 for 12 Myr to see if same problem arises."
   ]
  },
  {
   "cell_type": "code",
   "execution_count": 4,
   "id": "0bdb49e8",
   "metadata": {},
   "outputs": [],
   "source": [
    "ripropagate.generate(etime=12,output='./070521_ri') "
   ]
  },
  {
   "cell_type": "markdown",
   "id": "41f960d1",
   "metadata": {},
   "source": [
    "### 7/9/21 ###\n",
    "* Model ran successfully on Stampede2, but only 3.3 Myr in 48 hours. \n",
    "* Planning to try adding diffusion creep back in by changing viscous flow law to composite and adding diffusion creep prefactors, grain size exponenets, activation energies/volumes.\n",
    "* Trying a local test first but don't expect it to succeed. "
   ]
  },
  {
   "cell_type": "code",
   "execution_count": 3,
   "id": "a3bdaf3e",
   "metadata": {},
   "outputs": [],
   "source": [
    "ripropagate.generate(etime=0,output='./070921_ri_test') "
   ]
  },
  {
   "cell_type": "markdown",
   "id": "463175e3",
   "metadata": {},
   "source": [
    "* Yep, failed twice with core dump. Trying on stampede instead."
   ]
  },
  {
   "cell_type": "code",
   "execution_count": 4,
   "id": "679e214e",
   "metadata": {},
   "outputs": [],
   "source": [
    "ripropagate.generate(etime=12,output='./070921_ri') "
   ]
  },
  {
   "cell_type": "markdown",
   "id": "7db5f490",
   "metadata": {},
   "source": [
    "### 7/10/21 ###\n",
    "* Model had convergence error after only 90,000 years.\n",
    "* Trying it again with harmonic viscosity averaging instead of geometric in case that makes a difference."
   ]
  },
  {
   "cell_type": "code",
   "execution_count": 3,
   "id": "828eb1ca",
   "metadata": {},
   "outputs": [],
   "source": [
    "ripropagate.generate(etime=12,output='./071021_ri') "
   ]
  },
  {
   "cell_type": "markdown",
   "id": "93fa1802",
   "metadata": {},
   "source": [
    "### 7/12/21 ###\n",
    "* Didn't make any difference, model crashed at same time with same error.\n",
    "* Going to remove diffusion creep and test the dislocation/400km model with a higher timestep 10000 years to test speed/stability."
   ]
  },
  {
   "cell_type": "code",
   "execution_count": 2,
   "id": "9d64ec9a",
   "metadata": {},
   "outputs": [],
   "source": [
    "ripropagate.generate(etime=20,output='./071221_ri') "
   ]
  },
  {
   "cell_type": "markdown",
   "id": "42ad3b45",
   "metadata": {},
   "source": [
    "### 7/17/21 ###\n",
    "* Model ran successfully, timed out after ~6 Myr\n",
    "* Will need underlying improvements to ASPECT code to improve model runtime and add additional features. Currently suspending model runs until that is accomplished."
   ]
  },
  {
   "cell_type": "markdown",
   "id": "a1f451f7",
   "metadata": {},
   "source": [
    "### 7/26/21 ###\n",
    "* Debugging diffusion creep without elasticity getting in the way. Kept a version of the prm (ri_base_elasticity) that maintains elasticity with no dislocation creep.\n",
    "* Base PRM altered to have no elasticity but diffusion creep. Testing that first before creating additional versions with diffusion creep in lithosphere and/or a higher minimum viscosity (1e19)."
   ]
  },
  {
   "cell_type": "code",
   "execution_count": 5,
   "id": "a9e34bbd",
   "metadata": {},
   "outputs": [],
   "source": [
    "ripropagate.generate(etime=0,output='./072621_ri_a_test',ver='a') "
   ]
  },
  {
   "cell_type": "markdown",
   "id": "d162ff3f",
   "metadata": {},
   "source": [
    "* Ran this locally. Viscosity structure seems reasonable (Christmas tree look) but did still go down to minimum values of 1e18.\n",
    "* Trying additional versions of this with diffusion creep in the mantle lithosphere and minimum viscosity set to 1e19."
   ]
  },
  {
   "cell_type": "code",
   "execution_count": 7,
   "id": "cbcf9def",
   "metadata": {},
   "outputs": [],
   "source": [
    "ripropagate.generate(etime=0,output='./072621_ri_b_test',ver='b',file='ri_base_mlith.prm') "
   ]
  },
  {
   "cell_type": "code",
   "execution_count": 8,
   "id": "e71d2868",
   "metadata": {},
   "outputs": [],
   "source": [
    "ripropagate.generate(etime=0,output='./072621_ri_c_test',ver='c',file='ri_base_19.prm') "
   ]
  },
  {
   "cell_type": "code",
   "execution_count": 9,
   "id": "2fa06504",
   "metadata": {},
   "outputs": [],
   "source": [
    "ripropagate.generate(etime=0,output='./072621_ri_d_test',ver='d',file='ri_base_mlith19.prm') "
   ]
  },
  {
   "cell_type": "markdown",
   "id": "49735b9f",
   "metadata": {},
   "source": [
    "* Models ran successfully - all are producing the minimum viscosity (1e18 or 1e19) at the base of the lithosphere. Going to analytically compute these profiles to see if they are correct."
   ]
  },
  {
   "cell_type": "code",
   "execution_count": null,
   "id": "0718b784",
   "metadata": {},
   "outputs": [],
   "source": []
  }
 ],
 "metadata": {
  "kernelspec": {
   "display_name": "Python 3 (ipykernel)",
   "language": "python",
   "name": "python3"
  },
  "language_info": {
   "codemirror_mode": {
    "name": "ipython",
    "version": 3
   },
   "file_extension": ".py",
   "mimetype": "text/x-python",
   "name": "python",
   "nbconvert_exporter": "python",
   "pygments_lexer": "ipython3",
   "version": "3.8.10"
  }
 },
 "nbformat": 4,
 "nbformat_minor": 5
}
